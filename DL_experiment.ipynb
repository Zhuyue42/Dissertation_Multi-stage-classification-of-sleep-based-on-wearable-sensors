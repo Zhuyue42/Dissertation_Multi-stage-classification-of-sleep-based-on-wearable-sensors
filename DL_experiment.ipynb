{
 "cells": [
  {
   "cell_type": "code",
   "execution_count": 1,
   "metadata": {},
   "outputs": [
    {
     "name": "stderr",
     "output_type": "stream",
     "text": [
      "e:\\virual_env\\CS909\\lib\\site-packages\\tqdm\\auto.py:22: TqdmWarning: IProgress not found. Please update jupyter and ipywidgets. See https://ipywidgets.readthedocs.io/en/stable/user_install.html\n",
      "  from .autonotebook import tqdm as notebook_tqdm\n"
     ]
    }
   ],
   "source": [
    "import sys\n",
    "import os\n",
    "import pandas as pd\n",
    "import numpy as np\n",
    "import math\n",
    "import random\n",
    "import matplotlib.pyplot as plt\n",
    "import seaborn as sns\n",
    "\n",
    "from sklearn.model_selection import train_test_split\n",
    "from sklearn.preprocessing import OneHotEncoder\n",
    "from sklearn.metrics import f1_score\n",
    "from sklearn.metrics import accuracy_score\n",
    "from sklearn.metrics import precision_score, recall_score\n",
    "from sklearn.metrics import confusion_matrix\n",
    "\n",
    "\n",
    "import torch\n",
    "import torch.nn as nn\n",
    "import torch.optim as optim\n",
    "import torch.utils.data as data\n",
    "from torch.utils.data import DataLoader, TensorDataset\n",
    "from torch.nn import Transformer\n",
    "from torch.nn import TransformerEncoder, TransformerEncoderLayer"
   ]
  },
  {
   "cell_type": "code",
   "execution_count": 2,
   "metadata": {},
   "outputs": [],
   "source": [
    "feature_stand_path = \"E:/mesa/features/acc_hrv_combine/\"\n",
    "feature_path = \"E:/mesa/features/acc_hrv_no_stand/\"\n",
    "overlap_log = \"E:/mesa/features/acc_hrv_overlap.txt\"\n",
    "expriment_sample_id_file = \"E:/mesa/expriment_samples.txt\""
   ]
  },
  {
   "cell_type": "code",
   "execution_count": 3,
   "metadata": {},
   "outputs": [
    {
     "name": "stdout",
     "output_type": "stream",
     "text": [
      "['5119', '3974', '1113', '3737', '0468', '1381', '2325', '1431', '0893', '6727', '5162', '0392', '0683', '3293', '5830', '1098', '5369', '1459', '1022', '0144', '1077', '6450', '3793', '6266', '1797', '6052', '2567', '3554', '4527', '2549', '6370', '5740', '5001', '1752', '0904', '3710', '2100', '5031', '3042', '2030', '0914', '5195', '3664', '6337', '0036', '6067', '4880', '5268', '4958', '3703', '1546', '4974', '0074', '1641', '2429', '4309', '4555', '4345', '6557', '4795', '6789', '5127', '5990', '5635', '2212', '5955', '1959', '0427', '5673', '0789', '0110', '6784', '0791', '6616', '2796', '5390', '5932', '4333', '1020', '5503', '1087', '4683', '2451', '5669', '2170', '0910', '3251', '0458', '0594', '0528', '2709', '6722', '0862', '5513', '3332', '4529', '2035', '2217', '2488', '0332']\n"
     ]
    }
   ],
   "source": [
    "with open(expriment_sample_id_file, 'r') as file:\n",
    "    lines = file.readlines()\n",
    "\n",
    "expriment_id_list = [line.strip() for line in lines]\n",
    "# 输出列表内容\n",
    "print(expriment_id_list)"
   ]
  },
  {
   "cell_type": "code",
   "execution_count": 4,
   "metadata": {},
   "outputs": [],
   "source": [
    "dl_hrv_feature_names = [\"mean_nni\", \"sdnn\", \"sdsd\", \"vlf\", \"lf\", \"hf\", \"lf_hf_ratio\", \"total_power\"]\n",
    "dl_acc_names = \"activity\""
   ]
  },
  {
   "cell_type": "code",
   "execution_count": 5,
   "metadata": {},
   "outputs": [
    {
     "name": "stdout",
     "output_type": "stream",
     "text": [
      "1163\n"
     ]
    },
    {
     "data": {
      "text/html": [
       "<div>\n",
       "<style scoped>\n",
       "    .dataframe tbody tr th:only-of-type {\n",
       "        vertical-align: middle;\n",
       "    }\n",
       "\n",
       "    .dataframe tbody tr th {\n",
       "        vertical-align: top;\n",
       "    }\n",
       "\n",
       "    .dataframe thead th {\n",
       "        text-align: right;\n",
       "    }\n",
       "</style>\n",
       "<table border=\"1\" class=\"dataframe\">\n",
       "  <thead>\n",
       "    <tr style=\"text-align: right;\">\n",
       "      <th></th>\n",
       "      <th>mean_nni</th>\n",
       "      <th>sdnn</th>\n",
       "      <th>sdsd</th>\n",
       "      <th>vlf</th>\n",
       "      <th>lf</th>\n",
       "      <th>hf</th>\n",
       "      <th>lf_hf_ratio</th>\n",
       "      <th>total_power</th>\n",
       "    </tr>\n",
       "  </thead>\n",
       "  <tbody>\n",
       "    <tr>\n",
       "      <th>0</th>\n",
       "      <td>0.249651</td>\n",
       "      <td>0.216277</td>\n",
       "      <td>0.135700</td>\n",
       "      <td>0.209112</td>\n",
       "      <td>-0.067317</td>\n",
       "      <td>-0.082923</td>\n",
       "      <td>-0.294740</td>\n",
       "      <td>-0.050956</td>\n",
       "    </tr>\n",
       "    <tr>\n",
       "      <th>1</th>\n",
       "      <td>0.078485</td>\n",
       "      <td>-0.069824</td>\n",
       "      <td>-0.232090</td>\n",
       "      <td>-0.238372</td>\n",
       "      <td>-0.090769</td>\n",
       "      <td>-0.100113</td>\n",
       "      <td>-0.273266</td>\n",
       "      <td>-0.109704</td>\n",
       "    </tr>\n",
       "    <tr>\n",
       "      <th>2</th>\n",
       "      <td>0.129879</td>\n",
       "      <td>-0.198571</td>\n",
       "      <td>-0.131532</td>\n",
       "      <td>-0.250864</td>\n",
       "      <td>-0.109174</td>\n",
       "      <td>-0.094426</td>\n",
       "      <td>-0.465916</td>\n",
       "      <td>-0.120742</td>\n",
       "    </tr>\n",
       "    <tr>\n",
       "      <th>3</th>\n",
       "      <td>0.255071</td>\n",
       "      <td>-0.320846</td>\n",
       "      <td>-0.221557</td>\n",
       "      <td>-0.277589</td>\n",
       "      <td>-0.104212</td>\n",
       "      <td>-0.096194</td>\n",
       "      <td>-0.426207</td>\n",
       "      <td>-0.120422</td>\n",
       "    </tr>\n",
       "    <tr>\n",
       "      <th>4</th>\n",
       "      <td>0.219076</td>\n",
       "      <td>-0.395855</td>\n",
       "      <td>-0.202124</td>\n",
       "      <td>-0.289961</td>\n",
       "      <td>-0.108247</td>\n",
       "      <td>-0.099200</td>\n",
       "      <td>-0.451693</td>\n",
       "      <td>-0.124999</td>\n",
       "    </tr>\n",
       "  </tbody>\n",
       "</table>\n",
       "</div>"
      ],
      "text/plain": [
       "   mean_nni      sdnn      sdsd       vlf        lf        hf  lf_hf_ratio  \\\n",
       "0  0.249651  0.216277  0.135700  0.209112 -0.067317 -0.082923    -0.294740   \n",
       "1  0.078485 -0.069824 -0.232090 -0.238372 -0.090769 -0.100113    -0.273266   \n",
       "2  0.129879 -0.198571 -0.131532 -0.250864 -0.109174 -0.094426    -0.465916   \n",
       "3  0.255071 -0.320846 -0.221557 -0.277589 -0.104212 -0.096194    -0.426207   \n",
       "4  0.219076 -0.395855 -0.202124 -0.289961 -0.108247 -0.099200    -0.451693   \n",
       "\n",
       "   total_power  \n",
       "0    -0.050956  \n",
       "1    -0.109704  \n",
       "2    -0.120742  \n",
       "3    -0.120422  \n",
       "4    -0.124999  "
      ]
     },
     "execution_count": 5,
     "metadata": {},
     "output_type": "execute_result"
    }
   ],
   "source": [
    "test_df = pd.read_csv(os.path.join(feature_stand_path,(expriment_id_list[0]+'_combined.csv')))\n",
    "test_df = test_df[dl_hrv_feature_names]\n",
    "print(test_df.shape[0])\n",
    "test_df.head()"
   ]
  },
  {
   "cell_type": "code",
   "execution_count": 6,
   "metadata": {},
   "outputs": [],
   "source": [
    "#test_win = 20\n",
    "def build_window_feature(df,win_len=20,feature_list=[]):\n",
    "    fill_values = {}\n",
    "    df_x = df[feature_list].copy()\n",
    "    for s in range(1,round(win_len/2)+1):\n",
    "        for feature in feature_list:\n",
    "            df_x[\"%s_shift_%d\" %(feature,s)] = df_x[feature].shift(s)\n",
    "            # columns = df_x.columns.tolist()\n",
    "            # columns = columns[::-1]  # or data_frame = data_frame.sort_index(ascending=True, axis=0)\n",
    "            # df_x = df_x[columns]\n",
    "            fill_values[\"%s_shift_%d\" %(feature,s)] = df_x.loc[s:s+round(win_len/2)+1, feature].mean()\n",
    "\n",
    "\n",
    "    #test_df.fillna(fill_value)\n",
    "    for s in range(1,round(win_len/2)+1):\n",
    "        for feature in feature_list:\n",
    "            df_x[\"%s_shift_-%d\" %(feature,s)] = df_x[feature].shift(-s)\n",
    "            fill_values[\"%s_shift_-%d\" %(feature,s)] = df_x.iloc[-(s+round(win_len/2)+1):-s][feature].mean()\n",
    "            #print(df.loc[-(s+round(win_len/2)+1), feature])\n",
    "\n",
    "    for column, value in fill_values.items():\n",
    "        df_x[column].fillna(value, inplace=True)\n",
    "    #print(fill_values)\n",
    "    df_x.sort_index()\n",
    "    return df_x"
   ]
  },
  {
   "cell_type": "code",
   "execution_count": 7,
   "metadata": {},
   "outputs": [
    {
     "name": "stderr",
     "output_type": "stream",
     "text": [
      "e:\\virual_env\\CS909\\lib\\site-packages\\ipykernel_launcher.py:7: PerformanceWarning: DataFrame is highly fragmented.  This is usually the result of calling `frame.insert` many times, which has poor performance.  Consider joining all columns at once using pd.concat(axis=1) instead.  To get a de-fragmented frame, use `newframe = frame.copy()`\n",
      "  import sys\n",
      "e:\\virual_env\\CS909\\lib\\site-packages\\ipykernel_launcher.py:17: PerformanceWarning: DataFrame is highly fragmented.  This is usually the result of calling `frame.insert` many times, which has poor performance.  Consider joining all columns at once using pd.concat(axis=1) instead.  To get a de-fragmented frame, use `newframe = frame.copy()`\n",
      "  app.launch_new_instance()\n"
     ]
    },
    {
     "name": "stdout",
     "output_type": "stream",
     "text": [
      "False\n"
     ]
    },
    {
     "data": {
      "text/html": [
       "<div>\n",
       "<style scoped>\n",
       "    .dataframe tbody tr th:only-of-type {\n",
       "        vertical-align: middle;\n",
       "    }\n",
       "\n",
       "    .dataframe tbody tr th {\n",
       "        vertical-align: top;\n",
       "    }\n",
       "\n",
       "    .dataframe thead th {\n",
       "        text-align: right;\n",
       "    }\n",
       "</style>\n",
       "<table border=\"1\" class=\"dataframe\">\n",
       "  <thead>\n",
       "    <tr style=\"text-align: right;\">\n",
       "      <th></th>\n",
       "      <th>mean_nni</th>\n",
       "      <th>sdnn</th>\n",
       "      <th>sdsd</th>\n",
       "      <th>vlf</th>\n",
       "      <th>lf</th>\n",
       "      <th>hf</th>\n",
       "      <th>lf_hf_ratio</th>\n",
       "      <th>total_power</th>\n",
       "      <th>mean_nni_shift_1</th>\n",
       "      <th>sdnn_shift_1</th>\n",
       "      <th>...</th>\n",
       "      <th>lf_hf_ratio_shift_-24</th>\n",
       "      <th>total_power_shift_-24</th>\n",
       "      <th>mean_nni_shift_-25</th>\n",
       "      <th>sdnn_shift_-25</th>\n",
       "      <th>sdsd_shift_-25</th>\n",
       "      <th>vlf_shift_-25</th>\n",
       "      <th>lf_shift_-25</th>\n",
       "      <th>hf_shift_-25</th>\n",
       "      <th>lf_hf_ratio_shift_-25</th>\n",
       "      <th>total_power_shift_-25</th>\n",
       "    </tr>\n",
       "  </thead>\n",
       "  <tbody>\n",
       "    <tr>\n",
       "      <th>1153</th>\n",
       "      <td>-3.770287</td>\n",
       "      <td>0.838663</td>\n",
       "      <td>1.176138</td>\n",
       "      <td>-0.161039</td>\n",
       "      <td>-0.107842</td>\n",
       "      <td>-0.105226</td>\n",
       "      <td>-0.420371</td>\n",
       "      <td>-0.115562</td>\n",
       "      <td>-3.499295</td>\n",
       "      <td>0.007922</td>\n",
       "      <td>...</td>\n",
       "      <td>-0.093118</td>\n",
       "      <td>-0.116593</td>\n",
       "      <td>-3.273804</td>\n",
       "      <td>-0.187981</td>\n",
       "      <td>-0.06827</td>\n",
       "      <td>-0.230982</td>\n",
       "      <td>-0.102759</td>\n",
       "      <td>-0.101701</td>\n",
       "      <td>-0.194055</td>\n",
       "      <td>-0.117218</td>\n",
       "    </tr>\n",
       "    <tr>\n",
       "      <th>1154</th>\n",
       "      <td>-3.948870</td>\n",
       "      <td>-0.492567</td>\n",
       "      <td>-0.492269</td>\n",
       "      <td>-0.285007</td>\n",
       "      <td>-0.110836</td>\n",
       "      <td>-0.111770</td>\n",
       "      <td>-0.390085</td>\n",
       "      <td>-0.130159</td>\n",
       "      <td>-3.770287</td>\n",
       "      <td>0.838663</td>\n",
       "      <td>...</td>\n",
       "      <td>-0.093118</td>\n",
       "      <td>-0.116593</td>\n",
       "      <td>-3.273804</td>\n",
       "      <td>-0.187981</td>\n",
       "      <td>-0.06827</td>\n",
       "      <td>-0.230982</td>\n",
       "      <td>-0.102759</td>\n",
       "      <td>-0.101701</td>\n",
       "      <td>-0.194055</td>\n",
       "      <td>-0.117218</td>\n",
       "    </tr>\n",
       "    <tr>\n",
       "      <th>1155</th>\n",
       "      <td>-3.879892</td>\n",
       "      <td>0.109286</td>\n",
       "      <td>0.632999</td>\n",
       "      <td>-0.220223</td>\n",
       "      <td>-0.052316</td>\n",
       "      <td>0.058057</td>\n",
       "      <td>-0.437907</td>\n",
       "      <td>-0.034124</td>\n",
       "      <td>-3.948870</td>\n",
       "      <td>-0.492567</td>\n",
       "      <td>...</td>\n",
       "      <td>-0.093118</td>\n",
       "      <td>-0.116593</td>\n",
       "      <td>-3.273804</td>\n",
       "      <td>-0.187981</td>\n",
       "      <td>-0.06827</td>\n",
       "      <td>-0.230982</td>\n",
       "      <td>-0.102759</td>\n",
       "      <td>-0.101701</td>\n",
       "      <td>-0.194055</td>\n",
       "      <td>-0.117218</td>\n",
       "    </tr>\n",
       "    <tr>\n",
       "      <th>1156</th>\n",
       "      <td>-3.860773</td>\n",
       "      <td>0.593480</td>\n",
       "      <td>1.528704</td>\n",
       "      <td>-0.216088</td>\n",
       "      <td>-0.043140</td>\n",
       "      <td>0.008021</td>\n",
       "      <td>-0.410341</td>\n",
       "      <td>-0.043566</td>\n",
       "      <td>-3.879892</td>\n",
       "      <td>0.109286</td>\n",
       "      <td>...</td>\n",
       "      <td>-0.093118</td>\n",
       "      <td>-0.116593</td>\n",
       "      <td>-3.273804</td>\n",
       "      <td>-0.187981</td>\n",
       "      <td>-0.06827</td>\n",
       "      <td>-0.230982</td>\n",
       "      <td>-0.102759</td>\n",
       "      <td>-0.101701</td>\n",
       "      <td>-0.194055</td>\n",
       "      <td>-0.117218</td>\n",
       "    </tr>\n",
       "    <tr>\n",
       "      <th>1157</th>\n",
       "      <td>-0.898263</td>\n",
       "      <td>4.837062</td>\n",
       "      <td>7.497588</td>\n",
       "      <td>0.768435</td>\n",
       "      <td>0.722553</td>\n",
       "      <td>9.987754</td>\n",
       "      <td>-0.470980</td>\n",
       "      <td>3.651640</td>\n",
       "      <td>-3.860773</td>\n",
       "      <td>0.593480</td>\n",
       "      <td>...</td>\n",
       "      <td>-0.093118</td>\n",
       "      <td>-0.116593</td>\n",
       "      <td>-3.273804</td>\n",
       "      <td>-0.187981</td>\n",
       "      <td>-0.06827</td>\n",
       "      <td>-0.230982</td>\n",
       "      <td>-0.102759</td>\n",
       "      <td>-0.101701</td>\n",
       "      <td>-0.194055</td>\n",
       "      <td>-0.117218</td>\n",
       "    </tr>\n",
       "    <tr>\n",
       "      <th>1158</th>\n",
       "      <td>7.679412</td>\n",
       "      <td>10.315017</td>\n",
       "      <td>14.687730</td>\n",
       "      <td>12.263497</td>\n",
       "      <td>7.978560</td>\n",
       "      <td>0.293827</td>\n",
       "      <td>2.014863</td>\n",
       "      <td>6.236111</td>\n",
       "      <td>-0.898263</td>\n",
       "      <td>4.837062</td>\n",
       "      <td>...</td>\n",
       "      <td>-0.093118</td>\n",
       "      <td>-0.116593</td>\n",
       "      <td>-3.273804</td>\n",
       "      <td>-0.187981</td>\n",
       "      <td>-0.06827</td>\n",
       "      <td>-0.230982</td>\n",
       "      <td>-0.102759</td>\n",
       "      <td>-0.101701</td>\n",
       "      <td>-0.194055</td>\n",
       "      <td>-0.117218</td>\n",
       "    </tr>\n",
       "    <tr>\n",
       "      <th>1159</th>\n",
       "      <td>0.862850</td>\n",
       "      <td>11.028526</td>\n",
       "      <td>9.432270</td>\n",
       "      <td>11.278128</td>\n",
       "      <td>21.518695</td>\n",
       "      <td>21.006065</td>\n",
       "      <td>-0.352907</td>\n",
       "      <td>21.272180</td>\n",
       "      <td>7.679412</td>\n",
       "      <td>10.315017</td>\n",
       "      <td>...</td>\n",
       "      <td>-0.093118</td>\n",
       "      <td>-0.116593</td>\n",
       "      <td>-3.273804</td>\n",
       "      <td>-0.187981</td>\n",
       "      <td>-0.06827</td>\n",
       "      <td>-0.230982</td>\n",
       "      <td>-0.102759</td>\n",
       "      <td>-0.101701</td>\n",
       "      <td>-0.194055</td>\n",
       "      <td>-0.117218</td>\n",
       "    </tr>\n",
       "    <tr>\n",
       "      <th>1160</th>\n",
       "      <td>5.978670</td>\n",
       "      <td>-0.417241</td>\n",
       "      <td>-0.709033</td>\n",
       "      <td>-0.291831</td>\n",
       "      <td>-0.111294</td>\n",
       "      <td>-0.111181</td>\n",
       "      <td>-0.471437</td>\n",
       "      <td>-0.130852</td>\n",
       "      <td>0.862850</td>\n",
       "      <td>11.028526</td>\n",
       "      <td>...</td>\n",
       "      <td>-0.093118</td>\n",
       "      <td>-0.116593</td>\n",
       "      <td>-3.273804</td>\n",
       "      <td>-0.187981</td>\n",
       "      <td>-0.06827</td>\n",
       "      <td>-0.230982</td>\n",
       "      <td>-0.102759</td>\n",
       "      <td>-0.101701</td>\n",
       "      <td>-0.194055</td>\n",
       "      <td>-0.117218</td>\n",
       "    </tr>\n",
       "    <tr>\n",
       "      <th>1161</th>\n",
       "      <td>4.217312</td>\n",
       "      <td>8.273123</td>\n",
       "      <td>5.336504</td>\n",
       "      <td>1.741981</td>\n",
       "      <td>1.753773</td>\n",
       "      <td>6.177321</td>\n",
       "      <td>-0.444150</td>\n",
       "      <td>3.201232</td>\n",
       "      <td>5.978670</td>\n",
       "      <td>-0.417241</td>\n",
       "      <td>...</td>\n",
       "      <td>-0.093118</td>\n",
       "      <td>-0.116593</td>\n",
       "      <td>-3.273804</td>\n",
       "      <td>-0.187981</td>\n",
       "      <td>-0.06827</td>\n",
       "      <td>-0.230982</td>\n",
       "      <td>-0.102759</td>\n",
       "      <td>-0.101701</td>\n",
       "      <td>-0.194055</td>\n",
       "      <td>-0.117218</td>\n",
       "    </tr>\n",
       "    <tr>\n",
       "      <th>1162</th>\n",
       "      <td>4.621609</td>\n",
       "      <td>22.920745</td>\n",
       "      <td>13.940662</td>\n",
       "      <td>19.853532</td>\n",
       "      <td>23.812253</td>\n",
       "      <td>21.230219</td>\n",
       "      <td>-0.340781</td>\n",
       "      <td>23.541943</td>\n",
       "      <td>4.217312</td>\n",
       "      <td>8.273123</td>\n",
       "      <td>...</td>\n",
       "      <td>-0.093118</td>\n",
       "      <td>-0.116593</td>\n",
       "      <td>-3.273804</td>\n",
       "      <td>-0.187981</td>\n",
       "      <td>-0.06827</td>\n",
       "      <td>-0.230982</td>\n",
       "      <td>-0.102759</td>\n",
       "      <td>-0.101701</td>\n",
       "      <td>-0.194055</td>\n",
       "      <td>-0.117218</td>\n",
       "    </tr>\n",
       "  </tbody>\n",
       "</table>\n",
       "<p>10 rows × 408 columns</p>\n",
       "</div>"
      ],
      "text/plain": [
       "      mean_nni       sdnn       sdsd        vlf         lf         hf  \\\n",
       "1153 -3.770287   0.838663   1.176138  -0.161039  -0.107842  -0.105226   \n",
       "1154 -3.948870  -0.492567  -0.492269  -0.285007  -0.110836  -0.111770   \n",
       "1155 -3.879892   0.109286   0.632999  -0.220223  -0.052316   0.058057   \n",
       "1156 -3.860773   0.593480   1.528704  -0.216088  -0.043140   0.008021   \n",
       "1157 -0.898263   4.837062   7.497588   0.768435   0.722553   9.987754   \n",
       "1158  7.679412  10.315017  14.687730  12.263497   7.978560   0.293827   \n",
       "1159  0.862850  11.028526   9.432270  11.278128  21.518695  21.006065   \n",
       "1160  5.978670  -0.417241  -0.709033  -0.291831  -0.111294  -0.111181   \n",
       "1161  4.217312   8.273123   5.336504   1.741981   1.753773   6.177321   \n",
       "1162  4.621609  22.920745  13.940662  19.853532  23.812253  21.230219   \n",
       "\n",
       "      lf_hf_ratio  total_power  mean_nni_shift_1  sdnn_shift_1  ...  \\\n",
       "1153    -0.420371    -0.115562         -3.499295      0.007922  ...   \n",
       "1154    -0.390085    -0.130159         -3.770287      0.838663  ...   \n",
       "1155    -0.437907    -0.034124         -3.948870     -0.492567  ...   \n",
       "1156    -0.410341    -0.043566         -3.879892      0.109286  ...   \n",
       "1157    -0.470980     3.651640         -3.860773      0.593480  ...   \n",
       "1158     2.014863     6.236111         -0.898263      4.837062  ...   \n",
       "1159    -0.352907    21.272180          7.679412     10.315017  ...   \n",
       "1160    -0.471437    -0.130852          0.862850     11.028526  ...   \n",
       "1161    -0.444150     3.201232          5.978670     -0.417241  ...   \n",
       "1162    -0.340781    23.541943          4.217312      8.273123  ...   \n",
       "\n",
       "      lf_hf_ratio_shift_-24  total_power_shift_-24  mean_nni_shift_-25  \\\n",
       "1153              -0.093118              -0.116593           -3.273804   \n",
       "1154              -0.093118              -0.116593           -3.273804   \n",
       "1155              -0.093118              -0.116593           -3.273804   \n",
       "1156              -0.093118              -0.116593           -3.273804   \n",
       "1157              -0.093118              -0.116593           -3.273804   \n",
       "1158              -0.093118              -0.116593           -3.273804   \n",
       "1159              -0.093118              -0.116593           -3.273804   \n",
       "1160              -0.093118              -0.116593           -3.273804   \n",
       "1161              -0.093118              -0.116593           -3.273804   \n",
       "1162              -0.093118              -0.116593           -3.273804   \n",
       "\n",
       "      sdnn_shift_-25  sdsd_shift_-25  vlf_shift_-25  lf_shift_-25  \\\n",
       "1153       -0.187981        -0.06827      -0.230982     -0.102759   \n",
       "1154       -0.187981        -0.06827      -0.230982     -0.102759   \n",
       "1155       -0.187981        -0.06827      -0.230982     -0.102759   \n",
       "1156       -0.187981        -0.06827      -0.230982     -0.102759   \n",
       "1157       -0.187981        -0.06827      -0.230982     -0.102759   \n",
       "1158       -0.187981        -0.06827      -0.230982     -0.102759   \n",
       "1159       -0.187981        -0.06827      -0.230982     -0.102759   \n",
       "1160       -0.187981        -0.06827      -0.230982     -0.102759   \n",
       "1161       -0.187981        -0.06827      -0.230982     -0.102759   \n",
       "1162       -0.187981        -0.06827      -0.230982     -0.102759   \n",
       "\n",
       "      hf_shift_-25  lf_hf_ratio_shift_-25  total_power_shift_-25  \n",
       "1153     -0.101701              -0.194055              -0.117218  \n",
       "1154     -0.101701              -0.194055              -0.117218  \n",
       "1155     -0.101701              -0.194055              -0.117218  \n",
       "1156     -0.101701              -0.194055              -0.117218  \n",
       "1157     -0.101701              -0.194055              -0.117218  \n",
       "1158     -0.101701              -0.194055              -0.117218  \n",
       "1159     -0.101701              -0.194055              -0.117218  \n",
       "1160     -0.101701              -0.194055              -0.117218  \n",
       "1161     -0.101701              -0.194055              -0.117218  \n",
       "1162     -0.101701              -0.194055              -0.117218  \n",
       "\n",
       "[10 rows x 408 columns]"
      ]
     },
     "execution_count": 7,
     "metadata": {},
     "output_type": "execute_result"
    }
   ],
   "source": [
    "test_df_window=build_window_feature(test_df,50,dl_hrv_feature_names)\n",
    "print(test_df_window.isnull().any().any())\n",
    "test_df_window.tail(10)"
   ]
  },
  {
   "cell_type": "code",
   "execution_count": 8,
   "metadata": {},
   "outputs": [],
   "source": [
    "def pre_features_labels(id_list,path,win_length,feature_names):\n",
    "    all_hrv_df_list =[]\n",
    "    label_list =[]\n",
    "    for overlap_id in id_list:\n",
    "\n",
    "        all_feature_df = pd.read_csv(os.path.join(path,(overlap_id+'_combined.csv')))\n",
    "\n",
    "        label = all_feature_df[\"stages\"].to_list()\n",
    "        label_list = label_list+label\n",
    "\n",
    "        #hrv_feature_df = all_feature_df[dl_hrv_feature_names]\n",
    "        \n",
    "        hrv_feature_df=build_window_feature(all_feature_df,win_length,feature_names)\n",
    "        #print(type(hrv_feature_df))\n",
    "        #print(hrv_feature_20_df.shape[1])\n",
    "        all_hrv_df_list.append(hrv_feature_df)\n",
    "        \n",
    "    process_df = pd.concat(all_hrv_df_list)\n",
    "    return process_df,label_list"
   ]
  },
  {
   "cell_type": "markdown",
   "metadata": {},
   "source": [
    "## HRV features"
   ]
  },
  {
   "cell_type": "code",
   "execution_count": 9,
   "metadata": {},
   "outputs": [
    {
     "name": "stderr",
     "output_type": "stream",
     "text": [
      "e:\\virual_env\\CS909\\lib\\site-packages\\ipykernel_launcher.py:17: PerformanceWarning: DataFrame is highly fragmented.  This is usually the result of calling `frame.insert` many times, which has poor performance.  Consider joining all columns at once using pd.concat(axis=1) instead.  To get a de-fragmented frame, use `newframe = frame.copy()`\n",
      "  app.launch_new_instance()\n"
     ]
    },
    {
     "name": "stdout",
     "output_type": "stream",
     "text": [
      "112296 168\n"
     ]
    }
   ],
   "source": [
    "all_hrv_20_df, PSG_label_list = pre_features_labels(expriment_id_list,feature_stand_path,20,dl_hrv_feature_names)\n",
    "print(all_hrv_20_df.shape[0],all_hrv_20_df.shape[1])"
   ]
  },
  {
   "cell_type": "code",
   "execution_count": 10,
   "metadata": {},
   "outputs": [
    {
     "name": "stderr",
     "output_type": "stream",
     "text": [
      "e:\\virual_env\\CS909\\lib\\site-packages\\ipykernel_launcher.py:7: PerformanceWarning: DataFrame is highly fragmented.  This is usually the result of calling `frame.insert` many times, which has poor performance.  Consider joining all columns at once using pd.concat(axis=1) instead.  To get a de-fragmented frame, use `newframe = frame.copy()`\n",
      "  import sys\n",
      "e:\\virual_env\\CS909\\lib\\site-packages\\ipykernel_launcher.py:17: PerformanceWarning: DataFrame is highly fragmented.  This is usually the result of calling `frame.insert` many times, which has poor performance.  Consider joining all columns at once using pd.concat(axis=1) instead.  To get a de-fragmented frame, use `newframe = frame.copy()`\n",
      "  app.launch_new_instance()\n"
     ]
    },
    {
     "name": "stdout",
     "output_type": "stream",
     "text": [
      "112296 408\n"
     ]
    }
   ],
   "source": [
    "all_hrv_50_df, _ = pre_features_labels(expriment_id_list,feature_stand_path,50,dl_hrv_feature_names)\n",
    "print(all_hrv_50_df.shape[0],all_hrv_50_df.shape[1])"
   ]
  },
  {
   "cell_type": "code",
   "execution_count": 13,
   "metadata": {},
   "outputs": [
    {
     "name": "stderr",
     "output_type": "stream",
     "text": [
      "e:\\virual_env\\CS909\\lib\\site-packages\\ipykernel_launcher.py:7: PerformanceWarning: DataFrame is highly fragmented.  This is usually the result of calling `frame.insert` many times, which has poor performance.  Consider joining all columns at once using pd.concat(axis=1) instead.  To get a de-fragmented frame, use `newframe = frame.copy()`\n",
      "  import sys\n",
      "e:\\virual_env\\CS909\\lib\\site-packages\\ipykernel_launcher.py:17: PerformanceWarning: DataFrame is highly fragmented.  This is usually the result of calling `frame.insert` many times, which has poor performance.  Consider joining all columns at once using pd.concat(axis=1) instead.  To get a de-fragmented frame, use `newframe = frame.copy()`\n",
      "  app.launch_new_instance()\n"
     ]
    },
    {
     "name": "stdout",
     "output_type": "stream",
     "text": [
      "112296 808\n"
     ]
    }
   ],
   "source": [
    "all_hrv_100_df, _ = pre_features_labels(expriment_id_list,feature_stand_path,100,dl_hrv_feature_names)\n",
    "print(all_hrv_100_df.shape[0],all_hrv_100_df.shape[1])"
   ]
  },
  {
   "cell_type": "code",
   "execution_count": 14,
   "metadata": {},
   "outputs": [
    {
     "data": {
      "text/html": [
       "<div>\n",
       "<style scoped>\n",
       "    .dataframe tbody tr th:only-of-type {\n",
       "        vertical-align: middle;\n",
       "    }\n",
       "\n",
       "    .dataframe tbody tr th {\n",
       "        vertical-align: top;\n",
       "    }\n",
       "\n",
       "    .dataframe thead th {\n",
       "        text-align: right;\n",
       "    }\n",
       "</style>\n",
       "<table border=\"1\" class=\"dataframe\">\n",
       "  <thead>\n",
       "    <tr style=\"text-align: right;\">\n",
       "      <th></th>\n",
       "      <th>mean_nni</th>\n",
       "      <th>sdnn</th>\n",
       "      <th>sdsd</th>\n",
       "      <th>vlf</th>\n",
       "      <th>lf</th>\n",
       "      <th>hf</th>\n",
       "      <th>lf_hf_ratio</th>\n",
       "      <th>total_power</th>\n",
       "      <th>mean_nni_shift_1</th>\n",
       "      <th>sdnn_shift_1</th>\n",
       "      <th>...</th>\n",
       "      <th>lf_hf_ratio_shift_-9</th>\n",
       "      <th>total_power_shift_-9</th>\n",
       "      <th>mean_nni_shift_-10</th>\n",
       "      <th>sdnn_shift_-10</th>\n",
       "      <th>sdsd_shift_-10</th>\n",
       "      <th>vlf_shift_-10</th>\n",
       "      <th>lf_shift_-10</th>\n",
       "      <th>hf_shift_-10</th>\n",
       "      <th>lf_hf_ratio_shift_-10</th>\n",
       "      <th>total_power_shift_-10</th>\n",
       "    </tr>\n",
       "  </thead>\n",
       "  <tbody>\n",
       "    <tr>\n",
       "      <th>0</th>\n",
       "      <td>0.249651</td>\n",
       "      <td>0.216277</td>\n",
       "      <td>0.135700</td>\n",
       "      <td>0.209112</td>\n",
       "      <td>-0.067317</td>\n",
       "      <td>-0.082923</td>\n",
       "      <td>-0.294740</td>\n",
       "      <td>-0.050956</td>\n",
       "      <td>0.204389</td>\n",
       "      <td>-0.278371</td>\n",
       "      <td>...</td>\n",
       "      <td>-0.405589</td>\n",
       "      <td>-0.118952</td>\n",
       "      <td>0.157553</td>\n",
       "      <td>-0.285499</td>\n",
       "      <td>-0.185979</td>\n",
       "      <td>-0.243232</td>\n",
       "      <td>-0.101473</td>\n",
       "      <td>-0.093315</td>\n",
       "      <td>-0.416596</td>\n",
       "      <td>-0.114825</td>\n",
       "    </tr>\n",
       "    <tr>\n",
       "      <th>1</th>\n",
       "      <td>0.078485</td>\n",
       "      <td>-0.069824</td>\n",
       "      <td>-0.232090</td>\n",
       "      <td>-0.238372</td>\n",
       "      <td>-0.090769</td>\n",
       "      <td>-0.100113</td>\n",
       "      <td>-0.273266</td>\n",
       "      <td>-0.109704</td>\n",
       "      <td>0.249651</td>\n",
       "      <td>0.216277</td>\n",
       "      <td>...</td>\n",
       "      <td>-0.416596</td>\n",
       "      <td>-0.114825</td>\n",
       "      <td>0.154917</td>\n",
       "      <td>-0.351923</td>\n",
       "      <td>-0.220388</td>\n",
       "      <td>-0.275420</td>\n",
       "      <td>-0.109285</td>\n",
       "      <td>-0.096313</td>\n",
       "      <td>-0.464985</td>\n",
       "      <td>-0.123511</td>\n",
       "    </tr>\n",
       "    <tr>\n",
       "      <th>2</th>\n",
       "      <td>0.129879</td>\n",
       "      <td>-0.198571</td>\n",
       "      <td>-0.131532</td>\n",
       "      <td>-0.250864</td>\n",
       "      <td>-0.109174</td>\n",
       "      <td>-0.094426</td>\n",
       "      <td>-0.465916</td>\n",
       "      <td>-0.120742</td>\n",
       "      <td>0.078485</td>\n",
       "      <td>-0.069824</td>\n",
       "      <td>...</td>\n",
       "      <td>-0.464985</td>\n",
       "      <td>-0.123511</td>\n",
       "      <td>0.174346</td>\n",
       "      <td>-0.282680</td>\n",
       "      <td>-0.224323</td>\n",
       "      <td>-0.195731</td>\n",
       "      <td>-0.101061</td>\n",
       "      <td>-0.100097</td>\n",
       "      <td>-0.377192</td>\n",
       "      <td>-0.112607</td>\n",
       "    </tr>\n",
       "    <tr>\n",
       "      <th>3</th>\n",
       "      <td>0.255071</td>\n",
       "      <td>-0.320846</td>\n",
       "      <td>-0.221557</td>\n",
       "      <td>-0.277589</td>\n",
       "      <td>-0.104212</td>\n",
       "      <td>-0.096194</td>\n",
       "      <td>-0.426207</td>\n",
       "      <td>-0.120422</td>\n",
       "      <td>0.129879</td>\n",
       "      <td>-0.198571</td>\n",
       "      <td>...</td>\n",
       "      <td>-0.377192</td>\n",
       "      <td>-0.112607</td>\n",
       "      <td>0.114065</td>\n",
       "      <td>-0.306882</td>\n",
       "      <td>-0.153081</td>\n",
       "      <td>-0.257479</td>\n",
       "      <td>-0.099512</td>\n",
       "      <td>-0.093295</td>\n",
       "      <td>-0.403893</td>\n",
       "      <td>-0.114790</td>\n",
       "    </tr>\n",
       "    <tr>\n",
       "      <th>4</th>\n",
       "      <td>0.219076</td>\n",
       "      <td>-0.395855</td>\n",
       "      <td>-0.202124</td>\n",
       "      <td>-0.289961</td>\n",
       "      <td>-0.108247</td>\n",
       "      <td>-0.099200</td>\n",
       "      <td>-0.451693</td>\n",
       "      <td>-0.124999</td>\n",
       "      <td>0.255071</td>\n",
       "      <td>-0.320846</td>\n",
       "      <td>...</td>\n",
       "      <td>-0.403893</td>\n",
       "      <td>-0.114790</td>\n",
       "      <td>0.147011</td>\n",
       "      <td>-0.330330</td>\n",
       "      <td>-0.209416</td>\n",
       "      <td>-0.287039</td>\n",
       "      <td>-0.093901</td>\n",
       "      <td>-0.097913</td>\n",
       "      <td>-0.331384</td>\n",
       "      <td>-0.115190</td>\n",
       "    </tr>\n",
       "  </tbody>\n",
       "</table>\n",
       "<p>5 rows × 168 columns</p>\n",
       "</div>"
      ],
      "text/plain": [
       "   mean_nni      sdnn      sdsd       vlf        lf        hf  lf_hf_ratio  \\\n",
       "0  0.249651  0.216277  0.135700  0.209112 -0.067317 -0.082923    -0.294740   \n",
       "1  0.078485 -0.069824 -0.232090 -0.238372 -0.090769 -0.100113    -0.273266   \n",
       "2  0.129879 -0.198571 -0.131532 -0.250864 -0.109174 -0.094426    -0.465916   \n",
       "3  0.255071 -0.320846 -0.221557 -0.277589 -0.104212 -0.096194    -0.426207   \n",
       "4  0.219076 -0.395855 -0.202124 -0.289961 -0.108247 -0.099200    -0.451693   \n",
       "\n",
       "   total_power  mean_nni_shift_1  sdnn_shift_1  ...  lf_hf_ratio_shift_-9  \\\n",
       "0    -0.050956          0.204389     -0.278371  ...             -0.405589   \n",
       "1    -0.109704          0.249651      0.216277  ...             -0.416596   \n",
       "2    -0.120742          0.078485     -0.069824  ...             -0.464985   \n",
       "3    -0.120422          0.129879     -0.198571  ...             -0.377192   \n",
       "4    -0.124999          0.255071     -0.320846  ...             -0.403893   \n",
       "\n",
       "   total_power_shift_-9  mean_nni_shift_-10  sdnn_shift_-10  sdsd_shift_-10  \\\n",
       "0             -0.118952            0.157553       -0.285499       -0.185979   \n",
       "1             -0.114825            0.154917       -0.351923       -0.220388   \n",
       "2             -0.123511            0.174346       -0.282680       -0.224323   \n",
       "3             -0.112607            0.114065       -0.306882       -0.153081   \n",
       "4             -0.114790            0.147011       -0.330330       -0.209416   \n",
       "\n",
       "   vlf_shift_-10  lf_shift_-10  hf_shift_-10  lf_hf_ratio_shift_-10  \\\n",
       "0      -0.243232     -0.101473     -0.093315              -0.416596   \n",
       "1      -0.275420     -0.109285     -0.096313              -0.464985   \n",
       "2      -0.195731     -0.101061     -0.100097              -0.377192   \n",
       "3      -0.257479     -0.099512     -0.093295              -0.403893   \n",
       "4      -0.287039     -0.093901     -0.097913              -0.331384   \n",
       "\n",
       "   total_power_shift_-10  \n",
       "0              -0.114825  \n",
       "1              -0.123511  \n",
       "2              -0.112607  \n",
       "3              -0.114790  \n",
       "4              -0.115190  \n",
       "\n",
       "[5 rows x 168 columns]"
      ]
     },
     "execution_count": 14,
     "metadata": {},
     "output_type": "execute_result"
    }
   ],
   "source": [
    "all_hrv_20_df.head()"
   ]
  },
  {
   "cell_type": "code",
   "execution_count": 15,
   "metadata": {},
   "outputs": [
    {
     "name": "stdout",
     "output_type": "stream",
     "text": [
      "False\n"
     ]
    }
   ],
   "source": [
    "has_null_values = all_hrv_100_df.isnull().any().any()\n",
    "print(has_null_values)"
   ]
  },
  {
   "cell_type": "code",
   "execution_count": 16,
   "metadata": {},
   "outputs": [],
   "source": [
    "def draw_cof_martix(y_PSG_stages_label,y_PSG_stages_pred):   \n",
    "\n",
    "    conf_martix = confusion_matrix(y_PSG_stages_label,y_PSG_stages_pred)\n",
    "\n",
    "    # 打印混淆矩阵\n",
    "    print(\"hrv feature 3 classification Confusion Matrix:\")\n",
    "    print(conf_martix)\n",
    "\n",
    "    # 计算每个类别的总数\n",
    "    class_totals = np.sum(conf_martix, axis=1)\n",
    "    class_names = np.unique(y_PSG_stages_label)\n",
    "\n",
    "    # 计算每个单元格的百分比\n",
    "    cell_percentages = conf_martix / class_totals[:, np.newaxis]\n",
    "    cell_numbers = conf_martix\n",
    "\n",
    "    # 绘制混淆矩阵热图\n",
    "    plt.figure(figsize=(8, 6))\n",
    "    ax = sns.heatmap(cell_percentages,annot=False, cmap='Blues', fmt='.2%', xticklabels= class_names, yticklabels= class_names)\n",
    "    \n",
    "\n",
    "    for i in range(len( class_names)):\n",
    "        for j in range(len(class_names)):\n",
    "            ax.text(j + 0.5, i + 0.5, f'{cell_percentages[i, j]:.2%}\\n{cell_numbers[i, j]}',\n",
    "                ha='center', va='center', color='black')\n",
    "    plt.xlabel('Predicted Labels')\n",
    "    plt.ylabel('True Labels')\n",
    "    plt.title('Confusion Matrix')\n",
    "\n",
    "    plt.show()"
   ]
  },
  {
   "cell_type": "markdown",
   "metadata": {},
   "source": [
    "## Prepare Labels"
   ]
  },
  {
   "cell_type": "code",
   "execution_count": 17,
   "metadata": {},
   "outputs": [
    {
     "name": "stdout",
     "output_type": "stream",
     "text": [
      "{0, 1}\n",
      "{0, 1, 2}\n",
      "{0, 1, 2, 3}\n"
     ]
    }
   ],
   "source": [
    "class_2_labels = []#0=weak,1=sleep\n",
    "class_3_labels = []#0=weak,1/2/3=NREM=1,4=REM=2\n",
    "class_4_lables = []#0=weak,1/2=light sleep=1, 3=deep sleep=2,4=REM=3\n",
    "for labels in PSG_label_list:\n",
    "    if labels == 0:\n",
    "        class_2_labels.append(0)\n",
    "        class_3_labels.append(0)\n",
    "        class_4_lables.append(0)\n",
    "    elif labels == 1:\n",
    "        class_2_labels.append(1)\n",
    "        class_3_labels.append(1)\n",
    "        class_4_lables.append(1)\n",
    "    elif labels == 2:\n",
    "        class_2_labels.append(1)\n",
    "        class_3_labels.append(1)\n",
    "        class_4_lables.append(1)\n",
    "    elif labels == 3:\n",
    "        class_2_labels.append(1)\n",
    "        class_3_labels.append(1)\n",
    "        class_4_lables.append(2)\n",
    "    elif labels == 4:\n",
    "        class_2_labels.append(1)\n",
    "        class_3_labels.append(2)\n",
    "        class_4_lables.append(3)\n",
    "class_5_labels = PSG_label_list\n",
    "\n",
    "print(set(class_2_labels))\n",
    "print(set(class_3_labels))\n",
    "print(set(class_4_lables))"
   ]
  },
  {
   "cell_type": "code",
   "execution_count": 18,
   "metadata": {},
   "outputs": [],
   "source": [
    "hrv_20_X_train_val, hrv_20_X_test, hrv_20_Y_train_val, hrv_20_Y_test = train_test_split(all_hrv_20_df, class_3_labels, test_size=0.2, random_state=42)\n",
    "hrv_20_X_train, hrv_20_X_val,hrv_20_Y_train,hrv_20_Y_val = train_test_split(hrv_20_X_train_val, hrv_20_Y_train_val, test_size=0.2, random_state=42)\n",
    "#print(type(hrv_20_X_train))"
   ]
  },
  {
   "cell_type": "code",
   "execution_count": 19,
   "metadata": {},
   "outputs": [],
   "source": [
    "hrv_50_X_train_val, hrv_50_X_test, hrv_50_Y_train_val, hrv_50_Y_test = train_test_split(all_hrv_50_df, class_3_labels, test_size=0.2, random_state=42)\n",
    "hrv_50_X_train, hrv_50_X_val,hrv_50_Y_train,hrv_50_Y_val = train_test_split(hrv_50_X_train_val, hrv_50_Y_train_val, test_size=0.2, random_state=42)"
   ]
  },
  {
   "cell_type": "code",
   "execution_count": 20,
   "metadata": {},
   "outputs": [],
   "source": [
    "hrv_100_X_train_val, hrv_100_X_test, hrv_100_Y_train_val, hrv_100_Y_test = train_test_split(all_hrv_100_df, class_3_labels, test_size=0.2, random_state=42)\n",
    "hrv_100_X_train, hrv_100_X_val,hrv_100_Y_train,hrv_100_Y_val = train_test_split(hrv_100_X_train_val, hrv_100_Y_train_val, test_size=0.2, random_state=42)\n",
    "#print(type(hrv_20_X_train))"
   ]
  },
  {
   "cell_type": "code",
   "execution_count": 21,
   "metadata": {},
   "outputs": [],
   "source": [
    "def reshape_feature(df,feature_nums,sequnence_len):\n",
    "    samples_nums = df.shape[0]\n",
    "    data_array = df.values\n",
    "\n",
    "    # 初始化一个用于存储新形状的数组\n",
    "    feature_array = np.zeros((samples_nums, feature_nums, sequnence_len))\n",
    "\n",
    "# 将每个样本重新形状并存储到新数组中\n",
    "    for i in range(samples_nums):\n",
    "        sample = data_array[i]  # 获取一个样本的数据\n",
    "        reshaped_sample = sample.reshape(feature_nums, sequnence_len)  # 重新形状为 8x101\n",
    "        feature_array[i] = reshaped_sample\n",
    "    return feature_array"
   ]
  },
  {
   "cell_type": "code",
   "execution_count": 22,
   "metadata": {},
   "outputs": [],
   "source": [
    "def pre_data_loader(feature,label,batch_size,Reshape = False,feature_nums=8,Seq_len=21):\n",
    "    label_np = np.expand_dims(label, -1).astype(np.float32)\n",
    "    #print(label_np)\n",
    "    enc = OneHotEncoder(handle_unknown='ignore')#如果 handle_unknown='ignore'，则在进行编码时，如果遇到未知的分类变量取值，会忽略该取值并将对应的编码向量全部置为 0。\n",
    "    labels = enc.fit_transform(label_np).toarray()\n",
    "    print(labels)\n",
    "\n",
    "    if Reshape:\n",
    "        feature_reshaped = reshape_feature(feature,feature_nums,Seq_len)\n",
    "        features_tensor= torch.tensor(feature_reshaped, dtype=torch.float32)\n",
    "    else:\n",
    "        features_tensor= torch.tensor(feature.values, dtype=torch.float32)\n",
    "        features_tensor = features_tensor.unsqueeze(1)\n",
    "\n",
    "    label_tensor = torch.tensor(labels, dtype=torch.long)\n",
    "    \n",
    "    dataset = TensorDataset(features_tensor, label_tensor)\n",
    "    \n",
    "    dataloader = DataLoader(dataset, batch_size=batch_size, shuffle=False)\n",
    "\n",
    "    return dataloader\n"
   ]
  },
  {
   "cell_type": "code",
   "execution_count": 23,
   "metadata": {},
   "outputs": [
    {
     "name": "stdout",
     "output_type": "stream",
     "text": [
      "[[0. 1. 0.]\n",
      " [0. 1. 0.]\n",
      " [0. 1. 0.]\n",
      " ...\n",
      " [1. 0. 0.]\n",
      " [0. 1. 0.]\n",
      " [1. 0. 0.]]\n",
      "[[1. 0. 0.]\n",
      " [0. 1. 0.]\n",
      " [0. 1. 0.]\n",
      " ...\n",
      " [0. 0. 1.]\n",
      " [1. 0. 0.]\n",
      " [0. 1. 0.]]\n",
      "[[1. 0. 0.]\n",
      " [1. 0. 0.]\n",
      " [0. 1. 0.]\n",
      " ...\n",
      " [0. 1. 0.]\n",
      " [0. 1. 0.]\n",
      " [0. 1. 0.]]\n",
      "<torch.utils.data.dataloader.DataLoader object at 0x00000224D7D203C8> <torch.utils.data.dataloader.DataLoader object at 0x00000224D7D20F08> <torch.utils.data.dataloader.DataLoader object at 0x00000224D7D20808>\n"
     ]
    }
   ],
   "source": [
    "hrv_20_train_dataloader = pre_data_loader(hrv_20_X_train, hrv_20_Y_train,32)\n",
    "hrv_20_val_dataloader = pre_data_loader(hrv_20_X_val,hrv_20_Y_val,32)\n",
    "hrv_20_test_dataloader = pre_data_loader(hrv_20_X_test,hrv_20_Y_test,32)\n",
    "print(hrv_20_train_dataloader,hrv_20_val_dataloader,hrv_20_test_dataloader)"
   ]
  },
  {
   "cell_type": "code",
   "execution_count": 24,
   "metadata": {},
   "outputs": [
    {
     "name": "stdout",
     "output_type": "stream",
     "text": [
      "[[0. 1. 0.]\n",
      " [0. 1. 0.]\n",
      " [0. 1. 0.]\n",
      " ...\n",
      " [1. 0. 0.]\n",
      " [0. 1. 0.]\n",
      " [1. 0. 0.]]\n",
      "[[1. 0. 0.]\n",
      " [0. 1. 0.]\n",
      " [0. 1. 0.]\n",
      " ...\n",
      " [0. 0. 1.]\n",
      " [1. 0. 0.]\n",
      " [0. 1. 0.]]\n",
      "[[1. 0. 0.]\n",
      " [1. 0. 0.]\n",
      " [0. 1. 0.]\n",
      " ...\n",
      " [0. 1. 0.]\n",
      " [0. 1. 0.]\n",
      " [0. 1. 0.]]\n",
      "<torch.utils.data.dataloader.DataLoader object at 0x00000224AB7B62C8> <torch.utils.data.dataloader.DataLoader object at 0x00000224D7154948> <torch.utils.data.dataloader.DataLoader object at 0x00000224D756BDC8>\n"
     ]
    }
   ],
   "source": [
    "hrv_100_train_dataloader = pre_data_loader(hrv_100_X_train, hrv_100_Y_train,32)\n",
    "hrv_100_val_dataloader = pre_data_loader(hrv_100_X_val,hrv_100_Y_val,32)\n",
    "hrv_100_test_dataloader = pre_data_loader(hrv_100_X_test,hrv_100_Y_test,32)\n",
    "print(hrv_100_train_dataloader,hrv_100_val_dataloader,hrv_100_test_dataloader)"
   ]
  },
  {
   "cell_type": "code",
   "execution_count": 25,
   "metadata": {},
   "outputs": [],
   "source": [
    "device = torch.device(\"cuda\" if torch.cuda.is_available() else \"cpu\")"
   ]
  },
  {
   "cell_type": "code",
   "execution_count": 26,
   "metadata": {},
   "outputs": [],
   "source": [
    "def train(model, train_loader, criterion, optimizer):\n",
    "    model.train()\n",
    "    total_loss = 0\n",
    "    for data, target in train_loader:\n",
    "        data, target = data.to(device), target.to(device)\n",
    "        optimizer.zero_grad()\n",
    "        output = model(data)\n",
    "        loss = criterion(output, target)\n",
    "        loss.backward()\n",
    "        optimizer.step()\n",
    "        total_loss += loss.item()\n",
    "    return total_loss / len(train_loader)"
   ]
  },
  {
   "cell_type": "code",
   "execution_count": 27,
   "metadata": {},
   "outputs": [],
   "source": [
    "def validate(model, val_loader, criterion):\n",
    "    model.eval()\n",
    "    total_loss = 0\n",
    "    with torch.no_grad():\n",
    "        for data, target in val_loader:\n",
    "            data, target = data.to(device), target.to(device)\n",
    "            output = model(data)\n",
    "            loss = criterion(output, target)\n",
    "            total_loss += loss.item()\n",
    "    return total_loss / len(val_loader)"
   ]
  },
  {
   "cell_type": "code",
   "execution_count": 28,
   "metadata": {},
   "outputs": [],
   "source": [
    "def eval_model(model,moel_path,test_data):   \n",
    "    model.load_state_dict(torch.load(moel_path))\n",
    "    model.to('cpu')\n",
    "    model.eval()\n",
    "    all_predictions = []\n",
    "    all_targets = []\n",
    "\n",
    "    with torch.no_grad():\n",
    "        for data, target in test_data:\n",
    "            output = model(data)\n",
    "            _, predicted = torch.max(output.data, 1)\n",
    "            all_predictions.extend(predicted.cpu().numpy())\n",
    "            all_targets.extend(target.cpu().numpy())\n",
    "    #print(all_predictions,all_targets)\n",
    "\n",
    "    # all_predictions = np.argmax(np.array(all_predictions), axis=1)\n",
    "    all_targets = np.argmax(np.array(all_targets), axis=1)\n",
    "            \n",
    "    accuracy = accuracy_score(all_targets, all_predictions)\n",
    "    print('Accuracy: {:.2%}'.format(accuracy))\n",
    "    precision = precision_score(all_targets, all_predictions, average='macro')\n",
    "    print(f'Precision:: {precision:.4f}')\n",
    "    recall = recall_score(all_targets, all_predictions, average='macro')\n",
    "    print(f'Recall: {recall:.4f}')\n",
    "    f1 = f1_score(all_targets, all_predictions, average='macro')  # 你可以选择 'micro'、'macro' 或其他适合的值\n",
    "    print(f'F1 Score: {f1:.4f}')\n",
    "    draw_cof_martix(all_targets,all_predictions)"
   ]
  },
  {
   "cell_type": "code",
   "execution_count": 29,
   "metadata": {},
   "outputs": [],
   "source": [
    "def train_save(num_epochs,model,model_path,criterion, optimizer,train_data,val_data):   \n",
    "    #num_epochs = 20\n",
    "    best_loss = float(\"inf\")\n",
    "    #CNN_100_model_path = './models/DL_CNN_100_best_model.pth'\n",
    "    patience = 5  # 连续多少个周期验证集损失不下降就停止\n",
    "    counter = 0\n",
    "    for epoch in range(num_epochs):\n",
    "        train_loss = train(model, train_data, criterion, optimizer)\n",
    "        val_loss = validate(model,val_data, criterion)\n",
    "        if val_loss<best_loss:\n",
    "            #torch.save(CNN_model.state_dict(), CNN_100_model_path)\n",
    "            best_loss = val_loss\n",
    "            counter = 0\n",
    "        else:\n",
    "            counter += 1\n",
    "        if counter >= patience:\n",
    "            torch.save(model.state_dict(), model_path)\n",
    "            print(\"Early stopping triggered. Training stopped.\")\n",
    "            break\n",
    "        print(f'Epoch [{epoch+1}/{num_epochs}] - Train Loss: {train_loss:.4f}, Val Loss: {val_loss:.4f}')"
   ]
  },
  {
   "cell_type": "code",
   "execution_count": 28,
   "metadata": {},
   "outputs": [],
   "source": [
    "class SimpleCNN(nn.Module):\n",
    "    def __init__(self):\n",
    "        super(SimpleCNN, self).__init__()\n",
    "        self.conv1 = nn.Conv1d(in_channels=1, out_channels=128, kernel_size=7)\n",
    "        self.conv2 = nn.Conv1d(in_channels=128, out_channels=128, kernel_size=7)\n",
    "        self.fc1 = nn.Linear(50944, 256)\n",
    "        self.fc2 =  nn.Linear(256, 3) # 全连接层的输入大小为 16 * 162\n",
    "\n",
    "    def forward(self, x):\n",
    "        x = self.conv1(x)\n",
    "        x = torch.relu(x)\n",
    "        x = self.conv2(x)\n",
    "        x = torch.relu(x)\n",
    "        x = torch.max_pool1d(x, kernel_size=2)  # 最大池化\n",
    "        x = x.view(x.size(0), -1)  # 展平特征向量，以便全连接层处理\n",
    "        #print(x.shape)\n",
    "        x = self.fc1(x)\n",
    "        x= torch.relu(x)\n",
    "        x = self.fc2(x)\n",
    "        return x\n"
   ]
  },
  {
   "cell_type": "code",
   "execution_count": 29,
   "metadata": {},
   "outputs": [],
   "source": [
    "# 定义损失函数和优化器\n",
    "CNN_model = SimpleCNN().to(device)\n",
    "criterion = nn.MultiLabelSoftMarginLoss()\n",
    "optimizer = torch.optim.RMSprop(CNN_model.parameters(), lr=0.0001, alpha=0.9)"
   ]
  },
  {
   "cell_type": "code",
   "execution_count": 30,
   "metadata": {},
   "outputs": [
    {
     "name": "stdout",
     "output_type": "stream",
     "text": [
      "Epoch [1/40] - Train Loss: 0.4311, Val Loss: 0.3934\n",
      "Epoch [2/40] - Train Loss: 0.3618, Val Loss: 0.3597\n",
      "Epoch [3/40] - Train Loss: 0.3144, Val Loss: 0.3416\n",
      "Epoch [4/40] - Train Loss: 0.2742, Val Loss: 0.3327\n",
      "Epoch [5/40] - Train Loss: 0.2388, Val Loss: 0.3421\n",
      "Epoch [6/40] - Train Loss: 0.2083, Val Loss: 0.3500\n",
      "Epoch [7/40] - Train Loss: 0.1823, Val Loss: 0.3753\n",
      "Epoch [8/40] - Train Loss: 0.1607, Val Loss: 0.3862\n",
      "Early stopping triggered. Training stopped.\n",
      "Accuracy: 67.68%\n",
      "Precision:: 0.6659\n",
      "Recall: 0.7331\n",
      "F1 Score: 0.6442\n",
      "hrv feature 3 classification Confusion Matrix:\n",
      "[[5673  914 1439]\n",
      " [1093 7375 3512]\n",
      " [ 107  195 2152]]\n"
     ]
    },
    {
     "data": {
      "image/png": "[encoded data removed]",
      "text/plain": [
       "<Figure size 800x600 with 2 Axes>"
      ]
     },
     "metadata": {},
     "output_type": "display_data"
    }
   ],
   "source": [
    "CNN_100_model_path = './models/DL_CNN_100_best_model.pth'\n",
    "train_save(40,CNN_model,CNN_100_model_path,criterion,optimizer,hrv_100_train_dataloader,hrv_100_val_dataloader)\n",
    "eval_model(CNN_model,CNN_100_model_path,hrv_100_test_dataloader)"
   ]
  },
  {
   "cell_type": "markdown",
   "metadata": {},
   "source": [
    "## LSTM"
   ]
  },
  {
   "cell_type": "code",
   "execution_count": 30,
   "metadata": {},
   "outputs": [
    {
     "name": "stdout",
     "output_type": "stream",
     "text": [
      "[[0. 1. 0.]\n",
      " [0. 1. 0.]\n",
      " [0. 1. 0.]\n",
      " ...\n",
      " [1. 0. 0.]\n",
      " [0. 1. 0.]\n",
      " [1. 0. 0.]]\n",
      "[[1. 0. 0.]\n",
      " [0. 1. 0.]\n",
      " [0. 1. 0.]\n",
      " ...\n",
      " [0. 0. 1.]\n",
      " [1. 0. 0.]\n",
      " [0. 1. 0.]]\n",
      "[[1. 0. 0.]\n",
      " [1. 0. 0.]\n",
      " [0. 1. 0.]\n",
      " ...\n",
      " [0. 1. 0.]\n",
      " [0. 1. 0.]\n",
      " [0. 1. 0.]]\n",
      "<torch.utils.data.dataloader.DataLoader object at 0x00000224CD105888> <torch.utils.data.dataloader.DataLoader object at 0x00000224D756B408> <torch.utils.data.dataloader.DataLoader object at 0x00000224D756BEC8>\n"
     ]
    }
   ],
   "source": [
    "hrv_100_reshape_train_dataloader = pre_data_loader(hrv_100_X_train, hrv_100_Y_train,32,Reshape=True,feature_nums=8,Seq_len=101)\n",
    "hrv_100_reshape_val_dataloader = pre_data_loader(hrv_100_X_val,hrv_100_Y_val,32,Reshape=True,feature_nums=8,Seq_len=101)\n",
    "hrv_100_reshape_test_dataloader = pre_data_loader(hrv_100_X_test,hrv_100_Y_test,32,Reshape=True,feature_nums=8,Seq_len=101)\n",
    "print(hrv_100_reshape_train_dataloader,hrv_100_reshape_val_dataloader,hrv_100_reshape_test_dataloader)"
   ]
  },
  {
   "cell_type": "code",
   "execution_count": 31,
   "metadata": {},
   "outputs": [
    {
     "name": "stdout",
     "output_type": "stream",
     "text": [
      "[[0. 1. 0.]\n",
      " [0. 1. 0.]\n",
      " [0. 1. 0.]\n",
      " ...\n",
      " [1. 0. 0.]\n",
      " [0. 1. 0.]\n",
      " [1. 0. 0.]]\n",
      "[[1. 0. 0.]\n",
      " [0. 1. 0.]\n",
      " [0. 1. 0.]\n",
      " ...\n",
      " [0. 0. 1.]\n",
      " [1. 0. 0.]\n",
      " [0. 1. 0.]]\n",
      "[[1. 0. 0.]\n",
      " [1. 0. 0.]\n",
      " [0. 1. 0.]\n",
      " ...\n",
      " [0. 1. 0.]\n",
      " [0. 1. 0.]\n",
      " [0. 1. 0.]]\n",
      "<torch.utils.data.dataloader.DataLoader object at 0x00000224D7145C48> <torch.utils.data.dataloader.DataLoader object at 0x00000224D7D204C8> <torch.utils.data.dataloader.DataLoader object at 0x00000224D7D20888>\n"
     ]
    }
   ],
   "source": [
    "hrv_50_reshape_train_dataloader = pre_data_loader(hrv_50_X_train, hrv_50_Y_train,32,Reshape=True,feature_nums=8,Seq_len=51)\n",
    "hrv_50_reshape_val_dataloader = pre_data_loader(hrv_50_X_val,hrv_50_Y_val,32,Reshape=True,feature_nums=8,Seq_len=51)\n",
    "hrv_50_reshape_test_dataloader = pre_data_loader(hrv_50_X_test,hrv_50_Y_test,32,Reshape=True,feature_nums=8,Seq_len=51)\n",
    "print(hrv_50_reshape_train_dataloader,hrv_50_reshape_val_dataloader,hrv_50_reshape_test_dataloader)"
   ]
  },
  {
   "cell_type": "code",
   "execution_count": 32,
   "metadata": {},
   "outputs": [
    {
     "name": "stdout",
     "output_type": "stream",
     "text": [
      "[[0. 1. 0.]\n",
      " [0. 1. 0.]\n",
      " [0. 1. 0.]\n",
      " ...\n",
      " [1. 0. 0.]\n",
      " [0. 1. 0.]\n",
      " [1. 0. 0.]]\n",
      "[[1. 0. 0.]\n",
      " [0. 1. 0.]\n",
      " [0. 1. 0.]\n",
      " ...\n",
      " [0. 0. 1.]\n",
      " [1. 0. 0.]\n",
      " [0. 1. 0.]]\n",
      "[[1. 0. 0.]\n",
      " [1. 0. 0.]\n",
      " [0. 1. 0.]\n",
      " ...\n",
      " [0. 1. 0.]\n",
      " [0. 1. 0.]\n",
      " [0. 1. 0.]]\n",
      "<torch.utils.data.dataloader.DataLoader object at 0x000002248B359188> <torch.utils.data.dataloader.DataLoader object at 0x00000224D7A13748> <torch.utils.data.dataloader.DataLoader object at 0x00000224D7A13CC8>\n"
     ]
    }
   ],
   "source": [
    "hrv_20_reshape_train_dataloader = pre_data_loader(hrv_20_X_train, hrv_20_Y_train,32,Reshape=True,feature_nums=8,Seq_len=21)\n",
    "hrv_20_reshape_val_dataloader = pre_data_loader(hrv_20_X_val,hrv_20_Y_val,32,Reshape=True,feature_nums=8,Seq_len=21)\n",
    "hrv_20_reshape_test_dataloader = pre_data_loader(hrv_20_X_test,hrv_20_Y_test,32,Reshape=True,feature_nums=8,Seq_len=21)\n",
    "print(hrv_20_reshape_train_dataloader,hrv_20_reshape_val_dataloader,hrv_20_reshape_test_dataloader)"
   ]
  },
  {
   "cell_type": "code",
   "execution_count": 33,
   "metadata": {},
   "outputs": [],
   "source": [
    "class LSTMClassifier(nn.Module):\n",
    "    def __init__(self, input_size, hidden_size, num_layers, num_classes):\n",
    "        super(LSTMClassifier, self).__init__()\n",
    "        \n",
    "        # LSTM 层\n",
    "        self.lstm = nn.LSTM(input_size, hidden_size, num_layers, batch_first=True)\n",
    "        \n",
    "        # 全连接层用于分类\n",
    "        self.fc = nn.Linear(hidden_size, num_classes)\n",
    "    \n",
    "    def forward(self, x):\n",
    "        # LSTM 前向传播\n",
    "        out, _ = self.lstm(x)\n",
    "        \n",
    "        # 取最后一个时间步的输出，作为全连接层的输入\n",
    "        out = out[:, -1, :]\n",
    "        \n",
    "        # 使用全连接层进行分类\n",
    "        out = self.fc(out)\n",
    "        return out"
   ]
  },
  {
   "cell_type": "code",
   "execution_count": 34,
   "metadata": {},
   "outputs": [
    {
     "name": "stdout",
     "output_type": "stream",
     "text": [
      "torch.Size([32, 8, 101])\n"
     ]
    }
   ],
   "source": [
    "for batch in hrv_100_reshape_test_dataloader:\n",
    "    # 打印该批次数据中第一个张量的形状\n",
    "    first_tensor = batch[0]  # 获取第一个张量\n",
    "    print(first_tensor.shape)\n",
    "    # 这将输出 (seq_length, input_size)\n",
    "    break  # 只查看第一个批次"
   ]
  },
  {
   "cell_type": "code",
   "execution_count": 35,
   "metadata": {},
   "outputs": [
    {
     "name": "stdout",
     "output_type": "stream",
     "text": [
      "LSTMClassifier(\n",
      "  (lstm): LSTM(101, 1024, num_layers=2, batch_first=True)\n",
      "  (fc): Linear(in_features=1024, out_features=3, bias=True)\n",
      ")\n"
     ]
    }
   ],
   "source": [
    "input_size = 101  # 输入特征数量\n",
    "hidden_size = 1024  # LSTM 隐藏单元数量\n",
    "num_layers = 2 # LSTM 层数\n",
    "num_classes = 3  # 分类类别数量\n",
    "\n",
    "# 创建 LSTM 模型\n",
    "LSTM_model = LSTMClassifier(input_size, hidden_size, num_layers, num_classes).to(device)\n",
    "criterion = nn.MultiLabelSoftMarginLoss()\n",
    "optimizer = torch.optim.RMSprop(LSTM_model.parameters(), lr=0.0001, alpha=0.9)\n",
    "# 打印模型结构\n",
    "print(LSTM_model)"
   ]
  },
  {
   "cell_type": "code",
   "execution_count": 36,
   "metadata": {},
   "outputs": [
    {
     "name": "stdout",
     "output_type": "stream",
     "text": [
      "Epoch [1/40] - Train Loss: 0.4815, Val Loss: 0.4613\n",
      "Epoch [2/40] - Train Loss: 0.4462, Val Loss: 0.4424\n",
      "Epoch [3/40] - Train Loss: 0.4259, Val Loss: 0.4274\n",
      "Epoch [4/40] - Train Loss: 0.4059, Val Loss: 0.4158\n",
      "Epoch [5/40] - Train Loss: 0.3825, Val Loss: 0.4043\n",
      "Epoch [6/40] - Train Loss: 0.3551, Val Loss: 0.3929\n",
      "Epoch [7/40] - Train Loss: 0.3224, Val Loss: 0.3802\n",
      "Epoch [8/40] - Train Loss: 0.2837, Val Loss: 0.3663\n",
      "Epoch [9/40] - Train Loss: 0.2405, Val Loss: 0.3594\n",
      "Epoch [10/40] - Train Loss: 0.1960, Val Loss: 0.3555\n",
      "Epoch [11/40] - Train Loss: 0.1537, Val Loss: 0.3516\n",
      "Epoch [12/40] - Train Loss: 0.1156, Val Loss: 0.3601\n",
      "Epoch [13/40] - Train Loss: 0.0857, Val Loss: 0.3954\n",
      "Epoch [14/40] - Train Loss: 0.0630, Val Loss: 0.4183\n",
      "Epoch [15/40] - Train Loss: 0.0475, Val Loss: 0.4300\n",
      "Early stopping triggered. Training stopped.\n",
      "Accuracy: 84.18%\n",
      "Precision:: 0.8224\n",
      "Recall: 0.7824\n",
      "F1 Score: 0.7993\n",
      "hrv feature 3 classification Confusion Matrix:\n",
      "[[ 6740  1122   164]\n",
      " [ 1060 10648   272]\n",
      " [  298   638  1518]]\n"
     ]
    },
    {
     "data": {
      "image/png": "[encoded data removed]",
      "text/plain": [
       "<Figure size 800x600 with 2 Axes>"
      ]
     },
     "metadata": {},
     "output_type": "display_data"
    }
   ],
   "source": [
    "LSTM_100_model_path = './models/DL_LSTM_100_best_model.pth'\n",
    "train_save(40,LSTM_model,LSTM_100_model_path,criterion,optimizer,hrv_100_reshape_train_dataloader,hrv_100_reshape_val_dataloader)\n",
    "eval_model(LSTM_model, LSTM_100_model_path,hrv_100_reshape_test_dataloader)"
   ]
  },
  {
   "cell_type": "markdown",
   "metadata": {},
   "source": [
    "## LSTM-Attention"
   ]
  },
  {
   "cell_type": "code",
   "execution_count": 37,
   "metadata": {},
   "outputs": [],
   "source": [
    "\n",
    "\n",
    "class SoftAttention(nn.Module):\n",
    "    def __init__(self, hidden_dim):\n",
    "        super(SoftAttention, self).__init__()\n",
    "        self.query = nn.Linear(hidden_dim, hidden_dim)\n",
    "        self.key = nn.Linear(hidden_dim, hidden_dim)\n",
    "        self.value = nn.Linear(hidden_dim, hidden_dim)\n",
    "        \n",
    "    def forward(self, query, key, value):\n",
    "        scores = torch.matmul(self.query(query), self.key(key).transpose(-2, -1)) / (key.shape[-1] ** 0.5)\n",
    "        weights = torch.nn.functional.softmax(scores, dim=-1)\n",
    "        soft_attention = torch.matmul(weights, self.value(value))\n",
    "        return soft_attention"
   ]
  },
  {
   "cell_type": "code",
   "execution_count": 38,
   "metadata": {},
   "outputs": [],
   "source": [
    "class TransformerLSTMClassifier(nn.Module):\n",
    "    def __init__(self, input_dim, hidden_dim, num_layers, num_classes, num_heads):\n",
    "        super(TransformerLSTMClassifier, self).__init__()\n",
    "        \n",
    "        # LSTM层\n",
    "        self.lstm = nn.LSTM(input_dim, hidden_dim, num_layers, batch_first=True)\n",
    "        \n",
    "        # 自注意力机制（Transformer的多头注意力）\n",
    "        #self.attention = nn.MultiheadAttention(embed_dim=hidden_dim, num_heads=num_heads)\n",
    "        self.attention = SoftAttention(hidden_dim)\n",
    "        \n",
    "        # 全连接层用于分类\n",
    "        self.fc = nn.Linear(hidden_dim, num_classes)\n",
    "    \n",
    "    def forward(self, x):\n",
    "        # LSTM前向传播\n",
    "        out, _ = self.lstm(x)\n",
    "        \n",
    "        # 注意力机制前向传播\n",
    "        #out, _ = self.attention(out.permute(1, 0, 2), out.permute(1, 0, 2), out.permute(1, 0, 2))\n",
    "        #out = out.permute(1, 0, 2)\n",
    "        attention_out = self.attention(out, out, out)\n",
    "        \n",
    "        # 取最后一个时间步的输出，作为全连接层的输入\n",
    "        #out = out[:, -1, :]\n",
    "        out = attention_out[:, -1, :]\n",
    "        \n",
    "        # 使用全连接层进行分类\n",
    "        out = self.fc(out)\n",
    "        return out"
   ]
  },
  {
   "cell_type": "code",
   "execution_count": 39,
   "metadata": {},
   "outputs": [],
   "source": [
    "input_size = 101  # 输入特征数量\n",
    "hidden_size = 1024  # LSTM隐藏单元数量\n",
    "num_layers = 2  # LSTM层数\n",
    "num_classes = 3  # 分类类别数量\n",
    "num_heads = 8  # 自注意力机制中的注意力头数\n",
    "\n",
    "# 创建模型\n",
    "LSTM_Attentionnn_model = TransformerLSTMClassifier(input_size, hidden_size, num_layers, num_classes, num_heads).to(device)\n",
    "LSTM_Attentionnn_model.to(device)\n",
    "criterion = nn.MultiLabelSoftMarginLoss()\n",
    "optimizer = torch.optim.RMSprop(LSTM_Attentionnn_model.parameters(), lr=0.0002, alpha=0.9)"
   ]
  },
  {
   "cell_type": "code",
   "execution_count": 40,
   "metadata": {},
   "outputs": [
    {
     "name": "stdout",
     "output_type": "stream",
     "text": [
      "Epoch [1/40] - Train Loss: 0.4794, Val Loss: 0.4568\n",
      "Epoch [2/40] - Train Loss: 0.4401, Val Loss: 0.4283\n",
      "Epoch [3/40] - Train Loss: 0.4084, Val Loss: 0.4105\n",
      "Epoch [4/40] - Train Loss: 0.3723, Val Loss: 0.3935\n",
      "Epoch [5/40] - Train Loss: 0.3286, Val Loss: 0.3663\n",
      "Epoch [6/40] - Train Loss: 0.2765, Val Loss: 0.3523\n",
      "Epoch [7/40] - Train Loss: 0.2266, Val Loss: 0.3237\n",
      "Epoch [8/40] - Train Loss: 0.1829, Val Loss: 0.3291\n",
      "Epoch [9/40] - Train Loss: 0.1454, Val Loss: 0.3315\n",
      "Epoch [10/40] - Train Loss: 0.1146, Val Loss: 0.3670\n",
      "Epoch [11/40] - Train Loss: 0.0956, Val Loss: 0.3545\n",
      "Early stopping triggered. Training stopped.\n"
     ]
    }
   ],
   "source": [
    "LSTM_Attention_100_model_path = './models/DL_LSTM_Attention_100_best_model.pth'\n",
    "train_save(40,LSTM_Attentionnn_model,LSTM_Attention_100_model_path,criterion,optimizer,hrv_100_reshape_train_dataloader,hrv_100_reshape_val_dataloader)"
   ]
  },
  {
   "cell_type": "code",
   "execution_count": 41,
   "metadata": {},
   "outputs": [
    {
     "name": "stdout",
     "output_type": "stream",
     "text": [
      "Accuracy: 84.99%\n",
      "Precision:: 0.8233\n",
      "Recall: 0.8026\n",
      "F1 Score: 0.8122\n",
      "hrv feature 3 classification Confusion Matrix:\n",
      "[[ 6648  1189   189]\n",
      " [  851 10771   358]\n",
      " [  334   450  1670]]\n"
     ]
    },
    {
     "data": {
      "image/png": "[encoded data removed]",
      "text/plain": [
       "<Figure size 800x600 with 2 Axes>"
      ]
     },
     "metadata": {},
     "output_type": "display_data"
    }
   ],
   "source": [
    "eval_model(LSTM_Attentionnn_model, LSTM_Attention_100_model_path , hrv_100_reshape_test_dataloader)"
   ]
  },
  {
   "cell_type": "markdown",
   "metadata": {},
   "source": [
    "## 9 Feature"
   ]
  },
  {
   "cell_type": "markdown",
   "metadata": {},
   "source": [
    "### Add feature: Mean HR (mean_hr)"
   ]
  },
  {
   "cell_type": "code",
   "execution_count": 101,
   "metadata": {},
   "outputs": [
    {
     "name": "stdout",
     "output_type": "stream",
     "text": [
      "['mean_nni', 'sdnn', 'sdsd', 'vlf', 'lf', 'hf', 'lf_hf_ratio', 'total_power', 'mean_hr', 'pnni_50', 'rmssd']\n"
     ]
    }
   ],
   "source": [
    "add_dl_hrv_feature = [\"mean_hr\",\"pnni_50\",\"rmssd\"]\n",
    "dl_hrv_feature_names_add1 = dl_hrv_feature_names[:]\n",
    "dl_hrv_feature_names_add1= dl_hrv_feature_names_add1+add_dl_hrv_feature\n",
    "print(dl_hrv_feature_names_add1)"
   ]
  },
  {
   "cell_type": "code",
   "execution_count": 102,
   "metadata": {},
   "outputs": [
    {
     "name": "stderr",
     "output_type": "stream",
     "text": [
      "e:\\virual_env\\CS909\\lib\\site-packages\\ipykernel_launcher.py:7: PerformanceWarning: DataFrame is highly fragmented.  This is usually the result of calling `frame.insert` many times, which has poor performance.  Consider joining all columns at once using pd.concat(axis=1) instead.  To get a de-fragmented frame, use `newframe = frame.copy()`\n",
      "  import sys\n",
      "e:\\virual_env\\CS909\\lib\\site-packages\\ipykernel_launcher.py:17: PerformanceWarning: DataFrame is highly fragmented.  This is usually the result of calling `frame.insert` many times, which has poor performance.  Consider joining all columns at once using pd.concat(axis=1) instead.  To get a de-fragmented frame, use `newframe = frame.copy()`\n",
      "  app.launch_new_instance()\n"
     ]
    }
   ],
   "source": [
    "all_hrv_meanhr_100_df, _ = pre_features_labels(expriment_id_list,feature_stand_path,100,dl_hrv_feature_names_add1)\n"
   ]
  },
  {
   "cell_type": "code",
   "execution_count": 103,
   "metadata": {},
   "outputs": [],
   "source": [
    "hrv_9meanhr_100_X_train_val, hrv_9meanhr_100_X_test, hrv_9meanhr_100_Y_train_val, hrv_9meanhr_100_Y_test = train_test_split(all_hrv_meanhr_100_df, class_3_labels, test_size=0.2, random_state=42)\n",
    "hrv_9meanhr_100_X_train, hrv_9meanhr_100_X_val,hrv_9meanhr_100_Y_train,hrv_9meanhr_100_Y_val = train_test_split(hrv_9meanhr_100_X_train_val, hrv_9meanhr_100_Y_train_val, test_size=0.2, random_state=42)"
   ]
  },
  {
   "cell_type": "code",
   "execution_count": 104,
   "metadata": {},
   "outputs": [
    {
     "name": "stdout",
     "output_type": "stream",
     "text": [
      "[[0. 1. 0.]\n",
      " [0. 1. 0.]\n",
      " [0. 1. 0.]\n",
      " ...\n",
      " [1. 0. 0.]\n",
      " [0. 1. 0.]\n",
      " [1. 0. 0.]]\n",
      "[[1. 0. 0.]\n",
      " [0. 1. 0.]\n",
      " [0. 1. 0.]\n",
      " ...\n",
      " [0. 0. 1.]\n",
      " [1. 0. 0.]\n",
      " [0. 1. 0.]]\n",
      "[[1. 0. 0.]\n",
      " [1. 0. 0.]\n",
      " [0. 1. 0.]\n",
      " ...\n",
      " [0. 1. 0.]\n",
      " [0. 1. 0.]\n",
      " [0. 1. 0.]]\n",
      "<torch.utils.data.dataloader.DataLoader object at 0x000002462C401F88> <torch.utils.data.dataloader.DataLoader object at 0x000002462C401648> <torch.utils.data.dataloader.DataLoader object at 0x000002462C401148>\n"
     ]
    }
   ],
   "source": [
    "hrv_9meanhr_100_train_dataloader = pre_data_loader(hrv_9meanhr_100_X_train, hrv_9meanhr_100_Y_train,32)\n",
    "hrv_9meanhr_100_val_dataloader = pre_data_loader(hrv_9meanhr_100_X_val,hrv_9meanhr_100_Y_val,32)\n",
    "hrv_9meanhr_100_test_dataloader = pre_data_loader(hrv_9meanhr_100_X_test,hrv_9meanhr_100_Y_test,32)\n",
    "print(hrv_9meanhr_100_train_dataloader,hrv_9meanhr_100_val_dataloader,hrv_9meanhr_100_test_dataloader)"
   ]
  },
  {
   "cell_type": "markdown",
   "metadata": {},
   "source": [
    "#### CNN"
   ]
  },
  {
   "cell_type": "code",
   "execution_count": 109,
   "metadata": {},
   "outputs": [],
   "source": [
    "class CNN_9_feature(nn.Module):\n",
    "    def __init__(self):\n",
    "        super(CNN_9_feature, self).__init__()\n",
    "        self.conv1 = nn.Conv1d(in_channels=1, out_channels=128, kernel_size=7)\n",
    "        self.conv2 = nn.Conv1d(in_channels=128, out_channels=128, kernel_size=7)\n",
    "        self.fc1 = nn.Linear(70272, 256)\n",
    "        self.fc2 =  nn.Linear(256, 3) # 全连接层的输入大小为 16 * 162\n",
    "\n",
    "    def forward(self, x):\n",
    "        x = self.conv1(x)\n",
    "        x = torch.relu(x)\n",
    "        x = self.conv2(x)\n",
    "        x = torch.relu(x)\n",
    "        x = torch.max_pool1d(x, kernel_size=2)  # 最大池化\n",
    "        x = x.view(x.size(0), -1)  # 展平特征向量，以便全连接层处理\n",
    "        #print(x.shape)\n",
    "        x = self.fc1(x)\n",
    "        x= torch.relu(x)\n",
    "        x = self.fc2(x)\n",
    "        return x\n"
   ]
  },
  {
   "cell_type": "code",
   "execution_count": 110,
   "metadata": {},
   "outputs": [],
   "source": [
    "CNN_9_feature_model = CNN_9_feature().to(device)\n",
    "criterion = nn.MultiLabelSoftMarginLoss()\n",
    "optimizer = torch.optim.RMSprop(CNN_9_feature_model.parameters(), lr=0.0001, alpha=0.9)"
   ]
  },
  {
   "cell_type": "code",
   "execution_count": 111,
   "metadata": {},
   "outputs": [
    {
     "name": "stdout",
     "output_type": "stream",
     "text": [
      "Epoch [1/40] - Train Loss: 0.4253, Val Loss: 0.3858\n",
      "Epoch [2/40] - Train Loss: 0.3495, Val Loss: 0.3527\n",
      "Epoch [3/40] - Train Loss: 0.2988, Val Loss: 0.3351\n",
      "Epoch [4/40] - Train Loss: 0.2564, Val Loss: 0.3359\n",
      "Epoch [5/40] - Train Loss: 0.2196, Val Loss: 0.3443\n",
      "Epoch [6/40] - Train Loss: 0.1879, Val Loss: 0.3612\n",
      "Epoch [7/40] - Train Loss: 0.1615, Val Loss: 0.3999\n",
      "Early stopping triggered. Training stopped.\n",
      "Accuracy: 73.85%\n",
      "Precision:: 0.6911\n",
      "Recall: 0.7629\n",
      "F1 Score: 0.6953\n",
      "hrv feature 3 classification Confusion Matrix:\n",
      "[[6235  783 1008]\n",
      " [1231 8352 2397]\n",
      " [ 143  312 1999]]\n"
     ]
    },
    {
     "data": {
      "image/png": "[encoded data removed]",
      "text/plain": [
       "<Figure size 800x600 with 2 Axes>"
      ]
     },
     "metadata": {},
     "output_type": "display_data"
    }
   ],
   "source": [
    "CNN_100_meanhr_path = './models/DL_CNN_11feature_meanhr_pnni50_rmssd.pth'\n",
    "train_save(40,CNN_9_feature_model,CNN_100_meanhr_path,criterion,optimizer,hrv_9meanhr_100_train_dataloader,hrv_9meanhr_100_val_dataloader)\n",
    "eval_model(CNN_9_feature_model, CNN_100_meanhr_path , hrv_9meanhr_100_test_dataloader)"
   ]
  },
  {
   "cell_type": "markdown",
   "metadata": {},
   "source": [
    "#### LSTM"
   ]
  },
  {
   "cell_type": "code",
   "execution_count": 112,
   "metadata": {},
   "outputs": [
    {
     "name": "stdout",
     "output_type": "stream",
     "text": [
      "[[0. 1. 0.]\n",
      " [0. 1. 0.]\n",
      " [0. 1. 0.]\n",
      " ...\n",
      " [1. 0. 0.]\n",
      " [0. 1. 0.]\n",
      " [1. 0. 0.]]\n",
      "[[1. 0. 0.]\n",
      " [0. 1. 0.]\n",
      " [0. 1. 0.]\n",
      " ...\n",
      " [0. 0. 1.]\n",
      " [1. 0. 0.]\n",
      " [0. 1. 0.]]\n",
      "[[1. 0. 0.]\n",
      " [1. 0. 0.]\n",
      " [0. 1. 0.]\n",
      " ...\n",
      " [0. 1. 0.]\n",
      " [0. 1. 0.]\n",
      " [0. 1. 0.]]\n"
     ]
    }
   ],
   "source": [
    "hrv_9meanhr_100_reshape_train_dataloader = pre_data_loader(hrv_9meanhr_100_X_train, hrv_9meanhr_100_Y_train,64,Reshape=True,feature_nums=11,Seq_len=101)\n",
    "hrv_9meanhr_100_reshape_val_dataloader = pre_data_loader(hrv_9meanhr_100_X_val,hrv_9meanhr_100_Y_val,64,Reshape=True,feature_nums=11,Seq_len=101)\n",
    "hrv_9meanhr_100_reshape_test_dataloader = pre_data_loader(hrv_9meanhr_100_X_test,hrv_9meanhr_100_Y_test,64,Reshape=True,feature_nums=11,Seq_len=101)"
   ]
  },
  {
   "cell_type": "code",
   "execution_count": 113,
   "metadata": {},
   "outputs": [
    {
     "name": "stdout",
     "output_type": "stream",
     "text": [
      "LSTMClassifier(\n",
      "  (lstm): LSTM(101, 1024, num_layers=2, batch_first=True)\n",
      "  (fc): Linear(in_features=1024, out_features=3, bias=True)\n",
      ")\n"
     ]
    }
   ],
   "source": [
    "input_size = 101  # 输入特征数量\n",
    "hidden_size = 1024  # LSTM 隐藏单元数量\n",
    "num_layers = 2 # LSTM 层数\n",
    "num_classes = 3  # 分类类别数量\n",
    "\n",
    "# 创建 LSTM 模型\n",
    "LSTM_model_meanhr = LSTMClassifier(input_size, hidden_size, num_layers, num_classes).to(device)\n",
    "criterion = nn.MultiLabelSoftMarginLoss()\n",
    "optimizer = torch.optim.RMSprop(LSTM_model_meanhr.parameters(), lr=0.0001, alpha=0.9)\n",
    "# 打印模型结构\n",
    "print(LSTM_model)"
   ]
  },
  {
   "cell_type": "code",
   "execution_count": 114,
   "metadata": {},
   "outputs": [
    {
     "name": "stdout",
     "output_type": "stream",
     "text": [
      "Epoch [1/40] - Train Loss: 0.4846, Val Loss: 0.4616\n",
      "Epoch [2/40] - Train Loss: 0.4495, Val Loss: 0.4461\n",
      "Epoch [3/40] - Train Loss: 0.4305, Val Loss: 0.4324\n",
      "Epoch [4/40] - Train Loss: 0.4134, Val Loss: 0.4226\n",
      "Epoch [5/40] - Train Loss: 0.3965, Val Loss: 0.4097\n",
      "Epoch [6/40] - Train Loss: 0.3764, Val Loss: 0.3974\n",
      "Epoch [7/40] - Train Loss: 0.3515, Val Loss: 0.3856\n",
      "Epoch [8/40] - Train Loss: 0.3211, Val Loss: 0.3714\n",
      "Epoch [9/40] - Train Loss: 0.2861, Val Loss: 0.3564\n",
      "Epoch [10/40] - Train Loss: 0.2474, Val Loss: 0.3422\n",
      "Epoch [11/40] - Train Loss: 0.2070, Val Loss: 0.3372\n",
      "Epoch [12/40] - Train Loss: 0.1681, Val Loss: 0.3453\n",
      "Epoch [13/40] - Train Loss: 0.1326, Val Loss: 0.3460\n",
      "Epoch [14/40] - Train Loss: 0.1030, Val Loss: 0.3500\n",
      "Epoch [15/40] - Train Loss: 0.0802, Val Loss: 0.3653\n",
      "Early stopping triggered. Training stopped.\n",
      "Accuracy: 83.98%\n",
      "Precision:: 0.8226\n",
      "Recall: 0.7701\n",
      "F1 Score: 0.7915\n",
      "hrv feature 3 classification Confusion Matrix:\n",
      "[[ 6568  1298   160]\n",
      " [  862 10855   263]\n",
      " [  259   757  1438]]\n"
     ]
    },
    {
     "data": {
      "image/png": "[encoded data removed]",
      "text/plain": [
       "<Figure size 800x600 with 2 Axes>"
      ]
     },
     "metadata": {},
     "output_type": "display_data"
    }
   ],
   "source": [
    "LSTM_meanhr_100_path = './models/DL_LSTM_11feature_model.pth'\n",
    "train_save(40,LSTM_model_meanhr,LSTM_meanhr_100_path,criterion,optimizer,hrv_9meanhr_100_reshape_train_dataloader,hrv_9meanhr_100_reshape_val_dataloader)\n",
    "eval_model(LSTM_model_meanhr, LSTM_meanhr_100_path , hrv_9meanhr_100_reshape_test_dataloader)"
   ]
  },
  {
   "cell_type": "markdown",
   "metadata": {},
   "source": [
    "#### LSTM-Attention"
   ]
  },
  {
   "cell_type": "code",
   "execution_count": 116,
   "metadata": {},
   "outputs": [],
   "source": [
    "input_size = 101  # 输入特征数量\n",
    "hidden_size = 1024  # LSTM隐藏单元数量\n",
    "num_layers = 2  # LSTM层数\n",
    "num_classes = 3  # 分类类别数量\n",
    "num_heads = 8  # 自注意力机制中的注意力头数\n",
    "\n",
    "# 创建模型\n",
    "LSTM_Attentionnn_9_model = TransformerLSTMClassifier(input_size, hidden_size, num_layers, num_classes, num_heads).to(device)\n",
    "LSTM_Attentionnn_9_model.to(device)\n",
    "criterion = nn.MultiLabelSoftMarginLoss()\n",
    "optimizer = torch.optim.RMSprop(LSTM_Attentionnn_9_model.parameters(), lr=0.0002, alpha=0.9)"
   ]
  },
  {
   "cell_type": "code",
   "execution_count": 117,
   "metadata": {},
   "outputs": [
    {
     "name": "stdout",
     "output_type": "stream",
     "text": [
      "Epoch [1/40] - Train Loss: 0.4808, Val Loss: 0.4562\n",
      "Epoch [2/40] - Train Loss: 0.4430, Val Loss: 0.4331\n",
      "Epoch [3/40] - Train Loss: 0.4142, Val Loss: 0.4153\n",
      "Epoch [4/40] - Train Loss: 0.3809, Val Loss: 0.3941\n",
      "Epoch [5/40] - Train Loss: 0.3365, Val Loss: 0.3644\n",
      "Epoch [6/40] - Train Loss: 0.2817, Val Loss: 0.3398\n",
      "Epoch [7/40] - Train Loss: 0.2230, Val Loss: 0.3249\n",
      "Epoch [8/40] - Train Loss: 0.1692, Val Loss: 0.3163\n",
      "Epoch [9/40] - Train Loss: 0.1258, Val Loss: 0.3337\n",
      "Epoch [10/40] - Train Loss: 0.0959, Val Loss: 0.3844\n",
      "Epoch [11/40] - Train Loss: 0.0750, Val Loss: 0.4094\n",
      "Epoch [12/40] - Train Loss: 0.0618, Val Loss: 0.3961\n",
      "Early stopping triggered. Training stopped.\n",
      "Accuracy: 86.41%\n",
      "Precision:: 0.8431\n",
      "Recall: 0.8209\n",
      "F1 Score: 0.8312\n",
      "hrv feature 3 classification Confusion Matrix:\n",
      "[[ 6761  1089   176]\n",
      " [  767 10904   309]\n",
      " [  197   514  1743]]\n"
     ]
    },
    {
     "data": {
      "image/png": "[encoded data removed]",
      "text/plain": [
       "<Figure size 800x600 with 2 Axes>"
      ]
     },
     "metadata": {},
     "output_type": "display_data"
    }
   ],
   "source": [
    "LSTM_Attention_meanhr_model_path = './models/DL_LSTM_Attention_11feature_model.pth'\n",
    "train_save(40,LSTM_Attentionnn_9_model,LSTM_Attention_meanhr_model_path,criterion,optimizer,hrv_9meanhr_100_reshape_train_dataloader,hrv_9meanhr_100_reshape_val_dataloader)\n",
    "eval_model(LSTM_Attentionnn_9_model, LSTM_Attention_meanhr_model_path , hrv_9meanhr_100_reshape_test_dataloader)"
   ]
  },
  {
   "cell_type": "markdown",
   "metadata": {},
   "source": [
    "### Add feature: pNN50 (pnni_50)"
   ]
  },
  {
   "cell_type": "markdown",
   "metadata": {},
   "source": [
    "## 10 features"
   ]
  },
  {
   "cell_type": "markdown",
   "metadata": {},
   "source": [
    "### Mean HR: mean_hr, pNN50: pnni_50"
   ]
  },
  {
   "cell_type": "code",
   "execution_count": 73,
   "metadata": {},
   "outputs": [
    {
     "name": "stdout",
     "output_type": "stream",
     "text": [
      "['mean_nni', 'sdnn', 'sdsd', 'vlf', 'lf', 'hf', 'lf_hf_ratio', 'total_power', 'mean_hr', 'pnni_50']\n"
     ]
    }
   ],
   "source": [
    "add2_dl_hrv_feature = [\"mean_hr\",\"pnni_50\"]\n",
    "dl_hrv_feature_names_add2 = dl_hrv_feature_names[:]\n",
    "dl_hrv_feature_names_add2 = dl_hrv_feature_names_add2 + add2_dl_hrv_feature\n",
    "print(dl_hrv_feature_names_add2)"
   ]
  },
  {
   "cell_type": "code",
   "execution_count": 74,
   "metadata": {},
   "outputs": [
    {
     "name": "stderr",
     "output_type": "stream",
     "text": [
      "e:\\virual_env\\CS909\\lib\\site-packages\\ipykernel_launcher.py:7: PerformanceWarning: DataFrame is highly fragmented.  This is usually the result of calling `frame.insert` many times, which has poor performance.  Consider joining all columns at once using pd.concat(axis=1) instead.  To get a de-fragmented frame, use `newframe = frame.copy()`\n",
      "  import sys\n",
      "e:\\virual_env\\CS909\\lib\\site-packages\\ipykernel_launcher.py:17: PerformanceWarning: DataFrame is highly fragmented.  This is usually the result of calling `frame.insert` many times, which has poor performance.  Consider joining all columns at once using pd.concat(axis=1) instead.  To get a de-fragmented frame, use `newframe = frame.copy()`\n",
      "  app.launch_new_instance()\n"
     ]
    }
   ],
   "source": [
    "all_hrv_10_100_df, _ = pre_features_labels(expriment_id_list,feature_stand_path,100,dl_hrv_feature_names_add2)"
   ]
  },
  {
   "cell_type": "code",
   "execution_count": 85,
   "metadata": {},
   "outputs": [],
   "source": [
    "hrv_10_100_X_train_val, hrv_10_100_X_test, hrv_10_100_Y_train_val, hrv_10_100_Y_test = train_test_split(all_hrv_10_100_df, class_3_labels, test_size=0.2, random_state=42)\n",
    "hrv_10_100_X_train, hrv_10_100_X_val,hrv_10_100_Y_train,hrv_10_100_Y_val = train_test_split(hrv_10_100_X_train_val, hrv_10_100_Y_train_val, test_size=0.2, random_state=42)"
   ]
  },
  {
   "cell_type": "code",
   "execution_count": 87,
   "metadata": {},
   "outputs": [
    {
     "name": "stdout",
     "output_type": "stream",
     "text": [
      "[[0. 1. 0.]\n",
      " [0. 1. 0.]\n",
      " [0. 1. 0.]\n",
      " ...\n",
      " [1. 0. 0.]\n",
      " [0. 1. 0.]\n",
      " [1. 0. 0.]]\n",
      "[[1. 0. 0.]\n",
      " [0. 1. 0.]\n",
      " [0. 1. 0.]\n",
      " ...\n",
      " [0. 0. 1.]\n",
      " [1. 0. 0.]\n",
      " [0. 1. 0.]]\n",
      "[[1. 0. 0.]\n",
      " [1. 0. 0.]\n",
      " [0. 1. 0.]\n",
      " ...\n",
      " [0. 1. 0.]\n",
      " [0. 1. 0.]\n",
      " [0. 1. 0.]]\n",
      "<torch.utils.data.dataloader.DataLoader object at 0x0000026C12895A88> <torch.utils.data.dataloader.DataLoader object at 0x0000026C12895208> <torch.utils.data.dataloader.DataLoader object at 0x0000026C12895908>\n"
     ]
    }
   ],
   "source": [
    "hrv_10_100_train_dataloader = pre_data_loader(hrv_10_100_X_train, hrv_10_100_Y_train,32)\n",
    "hrv_10_100_val_dataloader = pre_data_loader(hrv_10_100_X_val,hrv_10_100_Y_val,32)\n",
    "hrv_10_100_test_dataloader = pre_data_loader(hrv_10_100_X_test,hrv_10_100_Y_test,32)\n",
    "print(hrv_10_100_train_dataloader,hrv_10_100_val_dataloader,hrv_10_100_test_dataloader)"
   ]
  },
  {
   "cell_type": "markdown",
   "metadata": {},
   "source": [
    "#### CNN"
   ]
  },
  {
   "cell_type": "code",
   "execution_count": 91,
   "metadata": {},
   "outputs": [],
   "source": [
    "class CNN_10feature(nn.Module):\n",
    "    def __init__(self):\n",
    "        super(CNN_10feature, self).__init__()\n",
    "        self.conv1 = nn.Conv1d(in_channels=1, out_channels=128, kernel_size=7)\n",
    "        self.conv2 = nn.Conv1d(in_channels=128, out_channels=128, kernel_size=7)\n",
    "        self.fc1 = nn.Linear(63872, 256)\n",
    "        self.fc2 =  nn.Linear(256, 3) # 全连接层的输入大小为 16 * 162\n",
    "\n",
    "    def forward(self, x):\n",
    "        x = self.conv1(x)\n",
    "        x = torch.relu(x)\n",
    "        x = self.conv2(x)\n",
    "        x = torch.relu(x)\n",
    "        x = torch.max_pool1d(x, kernel_size=2)  # 最大池化\n",
    "        x = x.view(x.size(0), -1)  # 展平特征向量，以便全连接层处理\n",
    "        #print(x.shape)\n",
    "        x = self.fc1(x)\n",
    "        x= torch.relu(x)\n",
    "        x = self.fc2(x)\n",
    "        return x"
   ]
  },
  {
   "cell_type": "code",
   "execution_count": 92,
   "metadata": {},
   "outputs": [],
   "source": [
    "CNN_10feature_model = CNN_10feature().to(device)\n",
    "criterion = nn.MultiLabelSoftMarginLoss()\n",
    "optimizer = torch.optim.RMSprop(CNN_10feature_model.parameters(), lr=0.0001, alpha=0.9)"
   ]
  },
  {
   "cell_type": "code",
   "execution_count": 93,
   "metadata": {},
   "outputs": [
    {
     "name": "stdout",
     "output_type": "stream",
     "text": [
      "Epoch [1/40] - Train Loss: 0.4252, Val Loss: 0.3858\n",
      "Epoch [2/40] - Train Loss: 0.3487, Val Loss: 0.3562\n",
      "Epoch [3/40] - Train Loss: 0.2973, Val Loss: 0.3452\n",
      "Epoch [4/40] - Train Loss: 0.2552, Val Loss: 0.3530\n",
      "Epoch [5/40] - Train Loss: 0.2193, Val Loss: 0.3457\n",
      "Epoch [6/40] - Train Loss: 0.1893, Val Loss: 0.3588\n",
      "Epoch [7/40] - Train Loss: 0.1642, Val Loss: 0.3535\n",
      "Early stopping triggered. Training stopped.\n"
     ]
    }
   ],
   "source": [
    "CNN_100_10_path = './models/DL_CNN_100_meanhr_pnni50_model.pth'\n",
    "train_save(40,CNN_10feature_model,CNN_100_10_path,hrv_10_100_train_dataloader,hrv_10_100_val_dataloader)"
   ]
  },
  {
   "cell_type": "code",
   "execution_count": 94,
   "metadata": {},
   "outputs": [
    {
     "name": "stdout",
     "output_type": "stream",
     "text": [
      "Accuracy: 75.38%\n",
      "Precision:: 0.7076\n",
      "Recall: 0.7726\n",
      "F1 Score: 0.7140\n",
      "hrv feature 3 classification Confusion Matrix:\n",
      "[[4943  702  761]\n",
      " [ 818 6885 1762]\n",
      " [ 119  261 1717]]\n"
     ]
    },
    {
     "data": {
      "image/png": "[encoded data removed]",
      "text/plain": [
       "<Figure size 800x600 with 2 Axes>"
      ]
     },
     "metadata": {},
     "output_type": "display_data"
    }
   ],
   "source": [
    "eval_model(CNN_10feature_model,CNN_100_10_path,hrv_10_100_val_dataloader) "
   ]
  },
  {
   "cell_type": "markdown",
   "metadata": {},
   "source": [
    "#### LSTM"
   ]
  },
  {
   "cell_type": "code",
   "execution_count": 95,
   "metadata": {},
   "outputs": [
    {
     "name": "stdout",
     "output_type": "stream",
     "text": [
      "[[0. 1. 0.]\n",
      " [0. 1. 0.]\n",
      " [0. 1. 0.]\n",
      " ...\n",
      " [1. 0. 0.]\n",
      " [0. 1. 0.]\n",
      " [1. 0. 0.]]\n",
      "[[1. 0. 0.]\n",
      " [0. 1. 0.]\n",
      " [0. 1. 0.]\n",
      " ...\n",
      " [0. 0. 1.]\n",
      " [1. 0. 0.]\n",
      " [0. 1. 0.]]\n",
      "[[1. 0. 0.]\n",
      " [1. 0. 0.]\n",
      " [0. 1. 0.]\n",
      " ...\n",
      " [0. 1. 0.]\n",
      " [0. 1. 0.]\n",
      " [0. 1. 0.]]\n"
     ]
    }
   ],
   "source": [
    "hrv_10_100_reshape_train_dataloader = pre_data_loader(hrv_10_100_X_train, hrv_10_100_Y_train,32,Reshape=True,feature_nums=10,Seq_len=101)\n",
    "hrv_10_100_reshape_val_dataloader = pre_data_loader(hrv_10_100_X_val,hrv_10_100_Y_val,32,Reshape=True,feature_nums=10,Seq_len=101)\n",
    "hrv_10_100_reshape_test_dataloader = pre_data_loader(hrv_10_100_X_test,hrv_10_100_Y_test,32,Reshape=True,feature_nums=10,Seq_len=101)"
   ]
  },
  {
   "cell_type": "code",
   "execution_count": 96,
   "metadata": {},
   "outputs": [
    {
     "name": "stdout",
     "output_type": "stream",
     "text": [
      "LSTMClassifier(\n",
      "  (lstm): LSTM(101, 1024, num_layers=2, batch_first=True)\n",
      "  (fc): Linear(in_features=1024, out_features=3, bias=True)\n",
      ")\n"
     ]
    }
   ],
   "source": [
    "input_size = 101  # 输入特征数量\n",
    "hidden_size = 1024  # LSTM 隐藏单元数量\n",
    "num_layers = 2 # LSTM 层数\n",
    "num_classes = 3  # 分类类别数量\n",
    "\n",
    "# 创建 LSTM 模型\n",
    "LSTM_model_10_mh_pnni50 = LSTMClassifier(input_size, hidden_size, num_layers, num_classes).to(device)\n",
    "criterion = nn.MultiLabelSoftMarginLoss()\n",
    "optimizer = torch.optim.RMSprop(LSTM_model_10_mh_pnni50.parameters(), lr=0.0001, alpha=0.9)\n",
    "# 打印模型结构\n",
    "print(LSTM_model_10_mh_pnni50)"
   ]
  },
  {
   "cell_type": "code",
   "execution_count": 97,
   "metadata": {},
   "outputs": [
    {
     "name": "stdout",
     "output_type": "stream",
     "text": [
      "Epoch [1/40] - Train Loss: 0.4778, Val Loss: 0.4559\n",
      "Epoch [2/40] - Train Loss: 0.4401, Val Loss: 0.4376\n",
      "Epoch [3/40] - Train Loss: 0.4175, Val Loss: 0.4221\n",
      "Epoch [4/40] - Train Loss: 0.3942, Val Loss: 0.4056\n",
      "Epoch [5/40] - Train Loss: 0.3649, Val Loss: 0.3863\n",
      "Epoch [6/40] - Train Loss: 0.3268, Val Loss: 0.3630\n",
      "Epoch [7/40] - Train Loss: 0.2785, Val Loss: 0.3373\n",
      "Epoch [8/40] - Train Loss: 0.2249, Val Loss: 0.3139\n",
      "Epoch [9/40] - Train Loss: 0.1730, Val Loss: 0.3033\n",
      "Epoch [10/40] - Train Loss: 0.1273, Val Loss: 0.3073\n",
      "Epoch [11/40] - Train Loss: 0.0926, Val Loss: 0.3176\n",
      "Epoch [12/40] - Train Loss: 0.0675, Val Loss: 0.3343\n",
      "Epoch [13/40] - Train Loss: 0.0514, Val Loss: 0.3565\n",
      "Early stopping triggered. Training stopped.\n"
     ]
    }
   ],
   "source": [
    "LSTM_meanhr_pnni50_100_path = './models/DL_LSTM_100_meanhr_pnni50_model.pth'\n",
    "train_save(40,LSTM_model_10_mh_pnni50,LSTM_meanhr_pnni50_100_path,hrv_10_100_reshape_train_dataloader,hrv_10_100_reshape_val_dataloader)"
   ]
  },
  {
   "cell_type": "code",
   "execution_count": 98,
   "metadata": {},
   "outputs": [
    {
     "name": "stdout",
     "output_type": "stream",
     "text": [
      "Accuracy: 85.66%\n",
      "Precision:: 0.8330\n",
      "Recall: 0.8147\n",
      "F1 Score: 0.8230\n",
      "hrv feature 3 classification Confusion Matrix:\n",
      "[[ 6932   909   185]\n",
      " [ 1076 10600   304]\n",
      " [  275   472  1707]]\n"
     ]
    },
    {
     "data": {
      "image/png": "[encoded data removed]",
      "text/plain": [
       "<Figure size 800x600 with 2 Axes>"
      ]
     },
     "metadata": {},
     "output_type": "display_data"
    }
   ],
   "source": [
    "eval_model(LSTM_model_10_mh_pnni50,LSTM_meanhr_pnni50_100_path,hrv_10_100_reshape_test_dataloader) "
   ]
  },
  {
   "cell_type": "markdown",
   "metadata": {},
   "source": [
    "#### LSTM-Attention"
   ]
  },
  {
   "cell_type": "code",
   "execution_count": 100,
   "metadata": {},
   "outputs": [],
   "source": [
    "input_size = 101  # 输入特征数量\n",
    "hidden_size = 1024  # LSTM隐藏单元数量\n",
    "num_layers = 2  # LSTM层数\n",
    "num_classes = 3  # 分类类别数量\n",
    "num_heads = 8  # 自注意力机制中的注意力头数\n",
    "\n",
    "# 创建模型\n",
    "LSTM_Attentionnn_model_mh_pnni50 = TransformerLSTMClassifier(input_size, hidden_size, num_layers, num_classes, num_heads).to(device)\n",
    "LSTM_Attentionnn_model_mh_pnni50.to(device)\n",
    "criterion = nn.MultiLabelSoftMarginLoss()\n",
    "optimizer = torch.optim.RMSprop(LSTM_Attentionnn_model_mh_pnni50.parameters(), lr=0.0002, alpha=0.9)"
   ]
  },
  {
   "cell_type": "code",
   "execution_count": 101,
   "metadata": {},
   "outputs": [
    {
     "name": "stdout",
     "output_type": "stream",
     "text": [
      "Epoch [1/40] - Train Loss: 0.4779, Val Loss: 0.4516\n",
      "Epoch [2/40] - Train Loss: 0.4314, Val Loss: 0.4249\n",
      "Epoch [3/40] - Train Loss: 0.3964, Val Loss: 0.3998\n",
      "Epoch [4/40] - Train Loss: 0.3526, Val Loss: 0.3684\n",
      "Epoch [5/40] - Train Loss: 0.2984, Val Loss: 0.3517\n",
      "Epoch [6/40] - Train Loss: 0.2382, Val Loss: 0.3273\n",
      "Epoch [7/40] - Train Loss: 0.1809, Val Loss: 0.3448\n",
      "Epoch [8/40] - Train Loss: 0.1374, Val Loss: 0.3479\n",
      "Epoch [9/40] - Train Loss: 0.1062, Val Loss: 0.3298\n",
      "Epoch [10/40] - Train Loss: 0.0830, Val Loss: 0.3471\n",
      "Early stopping triggered. Training stopped.\n",
      "Accuracy: 85.88%\n",
      "Precision:: 0.8471\n",
      "Recall: 0.8071\n",
      "F1 Score: 0.8237\n",
      "hrv feature 3 classification Confusion Matrix:\n",
      "[[ 7013   893   120]\n",
      " [ 1101 10661   218]\n",
      " [  321   519  1614]]\n"
     ]
    },
    {
     "data": {
      "image/png": "[encoded data removed]",
      "text/plain": [
       "<Figure size 800x600 with 2 Axes>"
      ]
     },
     "metadata": {},
     "output_type": "display_data"
    }
   ],
   "source": [
    "LSTM_Attention_10_model_path = './models/DL_LSTM_Attention_meanhr_pnni50_model.pth'\n",
    "train_save(40,LSTM_Attentionnn_model_mh_pnni50,LSTM_Attention_10_model_path,hrv_10_100_reshape_train_dataloader,hrv_10_100_reshape_val_dataloader)\n",
    "eval_model(LSTM_Attentionnn_model_mh_pnni50,LSTM_Attention_10_model_path,hrv_10_100_reshape_test_dataloader)"
   ]
  }
 ],
 "metadata": {
  "kernelspec": {
   "display_name": "Python 3",
   "language": "python",
   "name": "python3"
  },
  "language_info": {
   "codemirror_mode": {
    "name": "ipython",
    "version": 3
   },
   "file_extension": ".py",
   "mimetype": "text/x-python",
   "name": "python",
   "nbconvert_exporter": "python",
   "pygments_lexer": "ipython3",
   "version": "3.7.16"
  },
  "orig_nbformat": 4
 },
 "nbformat": 4,
 "nbformat_minor": 2
}
